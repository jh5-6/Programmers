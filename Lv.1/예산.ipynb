{
 "cells": [
  {
   "cell_type": "markdown",
   "id": "5577a8e0",
   "metadata": {},
   "source": [
    "# [Summer/Winter Coding(~2018)]\n",
    "\n",
    "# 예산"
   ]
  },
  {
   "cell_type": "markdown",
   "id": "091d4e4f",
   "metadata": {},
   "source": [
    "\n"
   ]
  },
  {
   "cell_type": "markdown",
   "id": "4bd36e7d",
   "metadata": {},
   "source": [
    "S사에서는 각 부서에 필요한 물품을 지원해 주기 위해 부서별로 물품을 구매하는데 필요한 금액을 조사했습니다. 그러나, 전체 예산이 정해져 있기 때문에 모든 부서의 물품을 구매해 줄 수는 없습니다. 그래서 최대한 많은 부서의 물품을 구매해 줄 수 있도록 하려고 합니다.\n",
    "\n",
    "물품을 구매해 줄 때는 각 부서가 신청한 금액만큼을 모두 지원해 줘야 합니다. 예를 들어 1,000원을 신청한 부서에는 정확히 1,000원을 지원해야 하며, 1,000원보다 적은 금액을 지원해 줄 수는 없습니다.\n",
    "\n",
    "부서별로 신청한 금액이 들어있는 배열 d와 예산 budget이 매개변수로 주어질 때, 최대 몇 개의 부서에 물품을 지원할 수 있는지 return 하도록 solution 함수를 완성해주세요."
   ]
  },
  {
   "cell_type": "markdown",
   "id": "4f9f4e5f",
   "metadata": {},
   "source": [
    "\n"
   ]
  },
  {
   "cell_type": "markdown",
   "id": "109c5e1d",
   "metadata": {},
   "source": [
    "< 제한사항 >\n",
    "- d는 부서별로 신청한 금액이 들어있는 배열이며, 길이(전체 부서의 개수)는 1 이상 100 이하입니다.\n",
    "- d의 각 원소는 부서별로 신청한 금액을 나타내며, 부서별 신청 금액은 1 이상 100,000 이하의 자연수입니다.\n",
    "- budget은 예산을 나타내며, 1 이상 10,000,000 이하의 자연수입니다."
   ]
  },
  {
   "cell_type": "markdown",
   "id": "1ff5ba4b",
   "metadata": {},
   "source": [
    "\n"
   ]
  },
  {
   "cell_type": "markdown",
   "id": "8a28ea0c",
   "metadata": {},
   "source": [
    "\n"
   ]
  },
  {
   "cell_type": "markdown",
   "id": "b92a3177",
   "metadata": {},
   "source": [
    "[런타임 에러]   len(d) = 1 인 경우 고려 X"
   ]
  },
  {
   "cell_type": "code",
   "execution_count": 1,
   "id": "76d22c89",
   "metadata": {},
   "outputs": [],
   "source": [
    "def solution(d, budget):\n",
    "    \n",
    "    if sum(d) == budget:\n",
    "        return len(d)\n",
    "    \n",
    "    total, cnt = 0, 0\n",
    "    d = sorted(d)\n",
    "    \n",
    "    while True:\n",
    "        total += d[cnt]      \n",
    "        if total > budget:\n",
    "            return cnt       \n",
    "        cnt += 1\n",
    "\n",
    "    return cnt"
   ]
  },
  {
   "cell_type": "markdown",
   "id": "36be58ce",
   "metadata": {},
   "source": [
    "\n"
   ]
  },
  {
   "cell_type": "markdown",
   "id": "af4b0280",
   "metadata": {},
   "source": [
    "Solution 1"
   ]
  },
  {
   "cell_type": "code",
   "execution_count": 4,
   "id": "0f86df30",
   "metadata": {},
   "outputs": [],
   "source": [
    "def solution(d, budget):\n",
    "    \n",
    "    if sum(d) == budget:\n",
    "        return len(d)\n",
    "        \n",
    "    d = sorted(d)\n",
    "    answer = 0\n",
    "    \n",
    "    for b in d:     \n",
    "        budget -= b       \n",
    "        if budget < 0 :\n",
    "            break     \n",
    "        answer += 1\n",
    "        \n",
    "    return answer\n"
   ]
  },
  {
   "cell_type": "markdown",
   "id": "9fd2128c",
   "metadata": {},
   "source": [
    "\n"
   ]
  },
  {
   "cell_type": "markdown",
   "id": "c6daf14e",
   "metadata": {},
   "source": [
    "Solution 2"
   ]
  },
  {
   "cell_type": "code",
   "execution_count": 5,
   "id": "8b6e23c5",
   "metadata": {},
   "outputs": [],
   "source": [
    "def solution(d, budget):\n",
    "    \n",
    "    if sum(d) == budget:\n",
    "        return len(d)\n",
    "    \n",
    "    answer = 0\n",
    "    d = sorted(d, reverse = True)\n",
    "    \n",
    "    while len(d) > 0:\n",
    "        budget -= d.pop() \n",
    "        if budget < 0:\n",
    "            return answer     \n",
    "        answer += 1\n",
    "\n",
    "    return answer"
   ]
  },
  {
   "cell_type": "markdown",
   "id": "b7cb9448",
   "metadata": {},
   "source": [
    "\n"
   ]
  },
  {
   "cell_type": "markdown",
   "id": "77ab7817",
   "metadata": {},
   "source": [
    "\n"
   ]
  },
  {
   "cell_type": "code",
   "execution_count": 6,
   "id": "29677726",
   "metadata": {},
   "outputs": [
    {
     "data": {
      "text/plain": [
       "3"
      ]
     },
     "execution_count": 6,
     "metadata": {},
     "output_type": "execute_result"
    }
   ],
   "source": [
    "solution([1,3,2,5,4], 9)"
   ]
  }
 ],
 "metadata": {
  "kernelspec": {
   "display_name": "Python 3 (ipykernel)",
   "language": "python",
   "name": "python3"
  },
  "language_info": {
   "codemirror_mode": {
    "name": "ipython",
    "version": 3
   },
   "file_extension": ".py",
   "mimetype": "text/x-python",
   "name": "python",
   "nbconvert_exporter": "python",
   "pygments_lexer": "ipython3",
   "version": "3.9.7"
  }
 },
 "nbformat": 4,
 "nbformat_minor": 5
}
