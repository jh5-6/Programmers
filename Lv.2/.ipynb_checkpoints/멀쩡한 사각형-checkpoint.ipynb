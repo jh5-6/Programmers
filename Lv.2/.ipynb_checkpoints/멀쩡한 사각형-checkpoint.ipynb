{
 "cells": [
  {
   "cell_type": "markdown",
   "id": "bf77a367",
   "metadata": {},
   "source": [
    "# [Summer/Winter Coding(2019)]\n",
    "\n",
    "# 멀쩡한 사각형"
   ]
  },
  {
   "cell_type": "markdown",
   "id": "bfa2648c",
   "metadata": {},
   "source": [
    "\n"
   ]
  },
  {
   "cell_type": "markdown",
   "id": "de297c38",
   "metadata": {},
   "source": [
    "\n"
   ]
  },
  {
   "cell_type": "markdown",
   "id": "f3680a34",
   "metadata": {},
   "source": [
    "가로 길이가 Wcm, 세로 길이가 Hcm인 직사각형 종이가 있습니다. 종이에는 가로, 세로 방향과 평행하게 격자 형태로 선이 그어져 있으며, 모든 격자칸은 1cm x 1cm 크기입니다. 이 종이를 격자 선을 따라 1cm × 1cm의 정사각형으로 잘라 사용할 예정이었는데, 누군가가 이 종이를 대각선 꼭지점 2개를 잇는 방향으로 잘라 놓았습니다. 그러므로 현재 직사각형 종이는 크기가 같은 직각삼각형 2개로 나누어진 상태입니다. 새로운 종이를 구할 수 없는 상태이기 때문에, 이 종이에서 원래 종이의 가로, 세로 방향과 평행하게 1cm × 1cm로 잘라 사용할 수 있는 만큼만 사용하기로 하였습니다.\n",
    "\n",
    "가로의 길이 W와 세로의 길이 H가 주어질 때, 사용할 수 있는 정사각형의 개수를 구하는 solution 함수를 완성해 주세요."
   ]
  },
  {
   "cell_type": "markdown",
   "id": "a7e8b9d4",
   "metadata": {},
   "source": [
    "\n"
   ]
  },
  {
   "cell_type": "markdown",
   "id": "84f37261",
   "metadata": {},
   "source": [
    "<제한 사항> \n",
    "- W, H : 1억 이하의 자연수"
   ]
  },
  {
   "cell_type": "markdown",
   "id": "b186bfc2",
   "metadata": {},
   "source": [
    "\n"
   ]
  },
  {
   "cell_type": "markdown",
   "id": "f2d786e1",
   "metadata": {},
   "source": [
    "[문제 풀이]\n",
    "\n",
    "- W, H : 1억 이하의 자연수로 반복문을 사용하면 시간 초과 발생 \n",
    "\n",
    "- 최대 공약수 활용 \n",
    "https://leedakyeong.tistory.com/135#comment16270807\n"
   ]
  },
  {
   "cell_type": "markdown",
   "id": "7b1714a1",
   "metadata": {},
   "source": [
    "\n"
   ]
  },
  {
   "cell_type": "markdown",
   "id": "33a9eaeb",
   "metadata": {},
   "source": [
    "\n"
   ]
  },
  {
   "cell_type": "markdown",
   "id": "70449c20",
   "metadata": {},
   "source": [
    "시간 초과 "
   ]
  },
  {
   "cell_type": "code",
   "execution_count": 20,
   "id": "204f9ec4",
   "metadata": {},
   "outputs": [],
   "source": [
    "def getY(w, h, x):\n",
    "    return int(x*w/h)\n",
    "    \n",
    "def solution(w,h):\n",
    "    answer = 0    \n",
    "    for i in range(0, h):\n",
    "        answer += getY(w, h, i) * 2\n",
    "\n",
    "    return answer"
   ]
  },
  {
   "cell_type": "markdown",
   "id": "da970ce5",
   "metadata": {},
   "source": [
    "\n"
   ]
  },
  {
   "cell_type": "markdown",
   "id": "22a4f32e",
   "metadata": {},
   "source": [
    "\n"
   ]
  },
  {
   "cell_type": "markdown",
   "id": "d68b1bf2",
   "metadata": {},
   "source": [
    "Solution 최대 공약수 활용한 문제 풀이 "
   ]
  },
  {
   "cell_type": "code",
   "execution_count": 22,
   "id": "8924ff25",
   "metadata": {},
   "outputs": [],
   "source": [
    "import math \n",
    "\n",
    "def solution(w,h):\n",
    "    \n",
    "    return w * h - (w + h - math.gcd(w,h))"
   ]
  },
  {
   "cell_type": "markdown",
   "id": "5378154b",
   "metadata": {},
   "source": [
    "\n"
   ]
  },
  {
   "cell_type": "markdown",
   "id": "354b1feb",
   "metadata": {},
   "source": [
    "\n"
   ]
  },
  {
   "cell_type": "code",
   "execution_count": 23,
   "id": "8486b7dc",
   "metadata": {},
   "outputs": [
    {
     "data": {
      "text/plain": [
       "80"
      ]
     },
     "execution_count": 23,
     "metadata": {},
     "output_type": "execute_result"
    }
   ],
   "source": [
    "solution(8, 12)"
   ]
  }
 ],
 "metadata": {
  "kernelspec": {
   "display_name": "Python 3 (ipykernel)",
   "language": "python",
   "name": "python3"
  },
  "language_info": {
   "codemirror_mode": {
    "name": "ipython",
    "version": 3
   },
   "file_extension": ".py",
   "mimetype": "text/x-python",
   "name": "python",
   "nbconvert_exporter": "python",
   "pygments_lexer": "ipython3",
   "version": "3.9.7"
  }
 },
 "nbformat": 4,
 "nbformat_minor": 5
}
