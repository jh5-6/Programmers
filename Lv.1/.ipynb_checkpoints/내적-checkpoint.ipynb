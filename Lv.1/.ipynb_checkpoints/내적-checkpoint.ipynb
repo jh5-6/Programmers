{
 "cells": [
  {
   "cell_type": "markdown",
   "id": "68148549",
   "metadata": {},
   "source": [
    "# [월간 코드 챌린지 시즌1]\n",
    "\n",
    "# 내적"
   ]
  },
  {
   "cell_type": "markdown",
   "id": "2370f224",
   "metadata": {},
   "source": [
    "\n"
   ]
  },
  {
   "cell_type": "markdown",
   "id": "e36b47df",
   "metadata": {},
   "source": [
    "\n"
   ]
  },
  {
   "cell_type": "markdown",
   "id": "25bda5b4",
   "metadata": {},
   "source": [
    "길이가 같은 두 1차원 정수 배열 a, b가 매개변수로 주어집니다. a와 b의 내적을 return 하도록 solution 함수를 완성해주세요.\n",
    "\n",
    "이때, a와 b의 내적은 a[0]*b[0] + a[1]*b[1] + ... + a[n-1]*b[n-1] 입니다. (n은 a, b의 길이)"
   ]
  },
  {
   "cell_type": "markdown",
   "id": "9ea16c33",
   "metadata": {},
   "source": [
    "\n"
   ]
  },
  {
   "cell_type": "markdown",
   "id": "f9ace8ef",
   "metadata": {},
   "source": [
    "<제한 사항> \n",
    "- a, b의 길이는 1 이상 1,000 이하입니다.\n",
    "- a, b의 모든 수는 -1,000 이상 1,000 이하입니다."
   ]
  },
  {
   "cell_type": "markdown",
   "id": "fa96eddc",
   "metadata": {},
   "source": [
    "\n"
   ]
  },
  {
   "cell_type": "markdown",
   "id": "c8be3453",
   "metadata": {},
   "source": [
    "\n"
   ]
  },
  {
   "cell_type": "markdown",
   "id": "2346d164",
   "metadata": {},
   "source": [
    "Solution zip() 활용한 문제 풀이"
   ]
  },
  {
   "cell_type": "code",
   "execution_count": 7,
   "id": "71a8b785",
   "metadata": {},
   "outputs": [],
   "source": [
    "def solution(a, b):\n",
    "    \n",
    "    multi = [a*b for a,b in zip(a,b)]\n",
    "\n",
    "    return sum(multi)"
   ]
  },
  {
   "cell_type": "markdown",
   "id": "d13575f9",
   "metadata": {},
   "source": [
    "\n"
   ]
  },
  {
   "cell_type": "markdown",
   "id": "d8a007b2",
   "metadata": {},
   "source": [
    "\n"
   ]
  },
  {
   "cell_type": "code",
   "execution_count": 6,
   "id": "1f11ac87",
   "metadata": {},
   "outputs": [
    {
     "data": {
      "text/plain": [
       "3"
      ]
     },
     "execution_count": 6,
     "metadata": {},
     "output_type": "execute_result"
    }
   ],
   "source": [
    "solution([1,2,3,4], [-3,-1,0,2])"
   ]
  }
 ],
 "metadata": {
  "kernelspec": {
   "display_name": "Python 3 (ipykernel)",
   "language": "python",
   "name": "python3"
  },
  "language_info": {
   "codemirror_mode": {
    "name": "ipython",
    "version": 3
   },
   "file_extension": ".py",
   "mimetype": "text/x-python",
   "name": "python",
   "nbconvert_exporter": "python",
   "pygments_lexer": "ipython3",
   "version": "3.9.7"
  }
 },
 "nbformat": 4,
 "nbformat_minor": 5
}
