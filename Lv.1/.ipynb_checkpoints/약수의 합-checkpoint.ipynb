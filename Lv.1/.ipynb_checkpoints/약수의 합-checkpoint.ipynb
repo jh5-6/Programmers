{
 "cells": [
  {
   "cell_type": "markdown",
   "id": "67e4a965",
   "metadata": {},
   "source": [
    "# [연습문제]\n",
    "\n",
    "# 약수의 합"
   ]
  },
  {
   "cell_type": "markdown",
   "id": "faea99a8",
   "metadata": {},
   "source": [
    "\n"
   ]
  },
  {
   "cell_type": "markdown",
   "id": "687697dd",
   "metadata": {},
   "source": [
    "정수 n을 입력받아 n의 약수를 모두 더한 값을 리턴하는 함수, solution을 완성해주세요."
   ]
  },
  {
   "cell_type": "markdown",
   "id": "ced0b581",
   "metadata": {},
   "source": [
    "\n"
   ]
  },
  {
   "cell_type": "markdown",
   "id": "a2d2a1ad",
   "metadata": {},
   "source": [
    "< 제한 사항 >\n",
    "- n은 0 이상 3000이하인 정수입니다."
   ]
  },
  {
   "cell_type": "markdown",
   "id": "b379e59b",
   "metadata": {},
   "source": [
    "\n"
   ]
  },
  {
   "cell_type": "markdown",
   "id": "f0b6358a",
   "metadata": {},
   "source": [
    "\n"
   ]
  },
  {
   "cell_type": "markdown",
   "id": "b7713d81",
   "metadata": {},
   "source": [
    "Solution 1"
   ]
  },
  {
   "cell_type": "code",
   "execution_count": 7,
   "id": "2ed38495",
   "metadata": {},
   "outputs": [],
   "source": [
    "def solution(n):\n",
    "    \n",
    "    answer = 0 \n",
    "    \n",
    "    for i in range(1, int(n ** 0.5) + 1):\n",
    "        if n % i == 0:\n",
    "            if i != (n // i) :\n",
    "                answer += i + (n // i)\n",
    "            else :\n",
    "                answer += i\n",
    "\n",
    "    return answer"
   ]
  },
  {
   "cell_type": "markdown",
   "id": "dd7608e5",
   "metadata": {},
   "source": [
    "\n"
   ]
  },
  {
   "cell_type": "markdown",
   "id": "bd32320b",
   "metadata": {},
   "source": [
    "Solution 2"
   ]
  },
  {
   "cell_type": "code",
   "execution_count": 8,
   "id": "276dded4",
   "metadata": {},
   "outputs": [],
   "source": [
    "def solution(n):\n",
    "\n",
    "    return n + sum([i for i in range(1, n // 2 + 1) if n % i == 0]) "
   ]
  },
  {
   "cell_type": "markdown",
   "id": "f867ca4a",
   "metadata": {},
   "source": [
    "\n"
   ]
  },
  {
   "cell_type": "markdown",
   "id": "3616ed82",
   "metadata": {},
   "source": [
    "\n"
   ]
  },
  {
   "cell_type": "code",
   "execution_count": 9,
   "id": "653f53c5",
   "metadata": {},
   "outputs": [
    {
     "data": {
      "text/plain": [
       "28"
      ]
     },
     "execution_count": 9,
     "metadata": {},
     "output_type": "execute_result"
    }
   ],
   "source": [
    "solution(12)"
   ]
  }
 ],
 "metadata": {
  "kernelspec": {
   "display_name": "Python 3 (ipykernel)",
   "language": "python",
   "name": "python3"
  },
  "language_info": {
   "codemirror_mode": {
    "name": "ipython",
    "version": 3
   },
   "file_extension": ".py",
   "mimetype": "text/x-python",
   "name": "python",
   "nbconvert_exporter": "python",
   "pygments_lexer": "ipython3",
   "version": "3.9.7"
  }
 },
 "nbformat": 4,
 "nbformat_minor": 5
}
