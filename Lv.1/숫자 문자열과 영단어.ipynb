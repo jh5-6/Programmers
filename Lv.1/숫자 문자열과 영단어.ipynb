{
 "cells": [
  {
   "cell_type": "markdown",
   "id": "4e9695f2",
   "metadata": {},
   "source": [
    "# [2021 카카오 채용연계형 인턴십]\n",
    "\n",
    "# 숫자 문자열과 영단어"
   ]
  },
  {
   "cell_type": "markdown",
   "id": "82d32f6e",
   "metadata": {},
   "source": [
    "\n"
   ]
  },
  {
   "cell_type": "markdown",
   "id": "9d7ba3fa",
   "metadata": {},
   "source": [
    "\n"
   ]
  },
  {
   "cell_type": "markdown",
   "id": "bf36fe5c",
   "metadata": {},
   "source": [
    "네오와 프로도가 숫자놀이를 하고 있습니다. 네오가 프로도에게 숫자를 건넬 때 일부 자릿수를 영단어로 바꾼 카드를 건네주면 프로도는 원래 숫자를 찾는 게임입니다.\n",
    "\n",
    "다음은 숫자의 일부 자릿수를 영단어로 바꾸는 예시입니다.\n",
    "\n",
    "    1478 → \"one4seveneight\"\n",
    "    234567 → \"23four5six7\"\n",
    "    10203 → \"1zerotwozero3\"\n",
    "    \n",
    "이렇게 숫자의 일부 자릿수가 영단어로 바뀌어졌거나, 혹은 바뀌지 않고 그대로인 문자열 s가 매개변수로 주어집니다. s가 의미하는 원래 숫자를 return 하도록 solution 함수를 완성해주세요.\n",
    "\n",
    "참고로 각 숫자에 대응되는 영단어는 다음 표와 같습니다.\n",
    "\n",
    "    숫자\t영단어\n",
    "    0\t  zero\n",
    "    1\t  one\n",
    "    2\t  two\n",
    "    3\t  three\n",
    "    4\t  four\n",
    "    5\t  five\n",
    "    6\t  six\n",
    "    7\t  seven\n",
    "    8\t  eight\n",
    "    9\t  nine"
   ]
  },
  {
   "cell_type": "markdown",
   "id": "55dd2f96",
   "metadata": {},
   "source": [
    "\n"
   ]
  },
  {
   "cell_type": "markdown",
   "id": "39283dd2",
   "metadata": {},
   "source": [
    "<제한 사항>\n",
    "- 1 ≤ s의 길이 ≤ 50\n",
    "- s가 \"zero\" 또는 \"0\"으로 시작하는 경우는 주어지지 않습니다.\n",
    "- return 값이 1 이상 2,000,000,000 이하의 정수가 되는 올바른 입력만 s로 주어집니다."
   ]
  },
  {
   "cell_type": "markdown",
   "id": "9d8c4d3c",
   "metadata": {},
   "source": [
    "\n"
   ]
  },
  {
   "cell_type": "markdown",
   "id": "a71916ba",
   "metadata": {},
   "source": [
    "\n"
   ]
  },
  {
   "cell_type": "markdown",
   "id": "eaf4f23a",
   "metadata": {},
   "source": [
    "Solution 1 str의 replace() 활용한 문제 풀이"
   ]
  },
  {
   "cell_type": "code",
   "execution_count": 46,
   "id": "c073fb7e",
   "metadata": {},
   "outputs": [],
   "source": [
    "def solution(s):\n",
    "    \n",
    "    answer = s    \n",
    "    num = {\"zero\":'0', \"one\":'1', \"two\":'2', \"three\":'3', \"four\":'4', \"five\":'5', \n",
    "           \"six\":'6', \"seven\":'7', \"eight\":'8', \"nine\":'9'} \n",
    "\n",
    "    for key, value in num.items():\n",
    "            answer = answer.replace(key, value)\n",
    "                    \n",
    "    return int(answer)"
   ]
  },
  {
   "cell_type": "markdown",
   "id": "2629d869",
   "metadata": {},
   "source": [
    "\n"
   ]
  },
  {
   "cell_type": "markdown",
   "id": "a45e5cbd",
   "metadata": {},
   "source": [
    "\n"
   ]
  },
  {
   "cell_type": "markdown",
   "id": "9390438c",
   "metadata": {},
   "source": [
    "Solution 2 replace() 사용하지 않은 문제 풀이 "
   ]
  },
  {
   "cell_type": "code",
   "execution_count": 47,
   "id": "0990cb8b",
   "metadata": {},
   "outputs": [],
   "source": [
    "def solution(s):\n",
    "    \n",
    "    answer = []\n",
    "    \n",
    "    num = {\"zero\":'0', \"one\":'1', \"two\":'2', \"three\":'3', \"four\":'4', \"five\":'5', \n",
    "           \"six\":'6', \"seven\":'7', \"eight\":'8', \"nine\":'9'} \n",
    "    curr = 0 \n",
    "    \n",
    "    while curr < len(s):\n",
    "        if s[curr] in ['0','1','2','3','4','5','6','7','8','9'] :\n",
    "            answer.append(s[curr])\n",
    "            curr += 1\n",
    "            \n",
    "        else:\n",
    "            for key in num.keys():\n",
    "                if s[curr: curr+2] in key:\n",
    "                    answer.append(num[key])\n",
    "                    curr += len(key)\n",
    "                    break   \n",
    "                    \n",
    "    return int(\"\".join(answer))"
   ]
  },
  {
   "cell_type": "markdown",
   "id": "8b5f4442",
   "metadata": {},
   "source": [
    "\n"
   ]
  },
  {
   "cell_type": "markdown",
   "id": "7f31aaad",
   "metadata": {},
   "source": [
    "\n"
   ]
  },
  {
   "cell_type": "markdown",
   "id": "46d21fee",
   "metadata": {},
   "source": [
    "Solution 3"
   ]
  },
  {
   "cell_type": "code",
   "execution_count": 51,
   "id": "a9f67733",
   "metadata": {},
   "outputs": [],
   "source": [
    "def solution(s):\n",
    "\n",
    "    answer = s\n",
    "    num = [\"zero\", \"one\", \"two\", \"three\", \"four\", \"five\", \"six\", \"seven\", \"eight\", \"nine\"]\n",
    "    \n",
    "    for i, n in enumerate(num):\n",
    "        answer = answer.replace(n, str(i))\n",
    "        \n",
    "    return int(answer)\n",
    "    "
   ]
  },
  {
   "cell_type": "markdown",
   "id": "df356154",
   "metadata": {},
   "source": [
    "\n"
   ]
  },
  {
   "cell_type": "markdown",
   "id": "68d82053",
   "metadata": {},
   "source": [
    "\n"
   ]
  },
  {
   "cell_type": "code",
   "execution_count": 52,
   "id": "eb145e5f",
   "metadata": {},
   "outputs": [
    {
     "data": {
      "text/plain": [
       "1478"
      ]
     },
     "execution_count": 52,
     "metadata": {},
     "output_type": "execute_result"
    }
   ],
   "source": [
    "solution(\"one4seveneight\")"
   ]
  }
 ],
 "metadata": {
  "kernelspec": {
   "display_name": "Python 3 (ipykernel)",
   "language": "python",
   "name": "python3"
  },
  "language_info": {
   "codemirror_mode": {
    "name": "ipython",
    "version": 3
   },
   "file_extension": ".py",
   "mimetype": "text/x-python",
   "name": "python",
   "nbconvert_exporter": "python",
   "pygments_lexer": "ipython3",
   "version": "3.9.7"
  }
 },
 "nbformat": 4,
 "nbformat_minor": 5
}
