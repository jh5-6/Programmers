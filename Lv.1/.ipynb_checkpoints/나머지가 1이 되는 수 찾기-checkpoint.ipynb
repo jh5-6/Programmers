{
 "cells": [
  {
   "cell_type": "markdown",
   "id": "58b3b994",
   "metadata": {},
   "source": [
    "# [월간 코드 챌린지 시즌3]\n",
    "\n",
    "# 나머지가 1이 되는 수 찾기"
   ]
  },
  {
   "cell_type": "markdown",
   "id": "3db7dd50",
   "metadata": {},
   "source": [
    "\n"
   ]
  },
  {
   "cell_type": "markdown",
   "id": "34e6aa0f",
   "metadata": {},
   "source": [
    "자연수 n이 매개변수로 주어집니다. n을 x로 나눈 나머지가 1이 되도록 하는 가장 작은 자연수 x를 return 하도록 solution 함수를 완성해주세요. 답이 항상 존재함은 증명될 수 있습니다."
   ]
  },
  {
   "cell_type": "markdown",
   "id": "0a2775e2",
   "metadata": {},
   "source": [
    "\n"
   ]
  },
  {
   "cell_type": "markdown",
   "id": "4765f73c",
   "metadata": {},
   "source": [
    "< 제한사항 >\n",
    "- 3 ≤ n ≤ 1,000,000"
   ]
  },
  {
   "cell_type": "markdown",
   "id": "00965b35",
   "metadata": {},
   "source": [
    "\n"
   ]
  },
  {
   "cell_type": "markdown",
   "id": "889f747a",
   "metadata": {},
   "source": [
    "\n"
   ]
  },
  {
   "cell_type": "markdown",
   "id": "9c252e61",
   "metadata": {},
   "source": [
    "Solution 1"
   ]
  },
  {
   "cell_type": "code",
   "execution_count": 3,
   "id": "c28fdd2d",
   "metadata": {},
   "outputs": [],
   "source": [
    "def solution(n):\n",
    "    \n",
    "    for i in range(2, n):\n",
    "        if (n - 1) % i == 0:\n",
    "            return i"
   ]
  },
  {
   "cell_type": "markdown",
   "id": "8e213694",
   "metadata": {},
   "source": [
    "\n"
   ]
  },
  {
   "cell_type": "markdown",
   "id": "68848116",
   "metadata": {},
   "source": [
    "Solution 2"
   ]
  },
  {
   "cell_type": "code",
   "execution_count": 6,
   "id": "cff75895",
   "metadata": {},
   "outputs": [],
   "source": [
    "def solution(n):\n",
    "    \n",
    "    for i in range(1, n):\n",
    "        if n % i == 1:\n",
    "            return i"
   ]
  },
  {
   "cell_type": "markdown",
   "id": "4c310f01",
   "metadata": {},
   "source": [
    "\n"
   ]
  },
  {
   "cell_type": "markdown",
   "id": "45c9352c",
   "metadata": {},
   "source": [
    "\n"
   ]
  },
  {
   "cell_type": "code",
   "execution_count": 7,
   "id": "bac559cf",
   "metadata": {},
   "outputs": [
    {
     "data": {
      "text/plain": [
       "3"
      ]
     },
     "execution_count": 7,
     "metadata": {},
     "output_type": "execute_result"
    }
   ],
   "source": [
    "solution(10)"
   ]
  }
 ],
 "metadata": {
  "kernelspec": {
   "display_name": "Python 3 (ipykernel)",
   "language": "python",
   "name": "python3"
  },
  "language_info": {
   "codemirror_mode": {
    "name": "ipython",
    "version": 3
   },
   "file_extension": ".py",
   "mimetype": "text/x-python",
   "name": "python",
   "nbconvert_exporter": "python",
   "pygments_lexer": "ipython3",
   "version": "3.9.7"
  }
 },
 "nbformat": 4,
 "nbformat_minor": 5
}
