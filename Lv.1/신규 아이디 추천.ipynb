{
 "cells": [
  {
   "cell_type": "markdown",
   "id": "c9e57787",
   "metadata": {},
   "source": [
    "# [2021 KAKAO BLIND RECRUITMENT]\n",
    "\n",
    "# 신규 아이디 추천"
   ]
  },
  {
   "cell_type": "markdown",
   "id": "42585490",
   "metadata": {},
   "source": [
    "\n"
   ]
  },
  {
   "cell_type": "markdown",
   "id": "723a0613",
   "metadata": {},
   "source": [
    "\n"
   ]
  },
  {
   "cell_type": "markdown",
   "id": "edefcf22",
   "metadata": {},
   "source": [
    "카카오에 입사한 신입 개발자 네오는 \"카카오계정개발팀\"에 배치되어, 카카오 서비스에 가입하는 유저들의 아이디를 생성하는 업무를 담당하게 되었습니다. \"네오\"에게 주어진 첫 업무는 새로 가입하는 유저들이 카카오 아이디 규칙에 맞지 않는 아이디를 입력했을 때, 입력된 아이디와 유사하면서 규칙에 맞는 아이디를 추천해주는 프로그램을 개발하는 것입니다.\n",
    "다음은 카카오 아이디의 규칙입니다.\n",
    "\n",
    "\n",
    "- 아이디의 길이는 3자 이상 15자 이하여야 합니다.\n",
    "- 아이디는 알파벳 소문자, 숫자, 빼기(-), 밑줄(_), 마침표(.) 문자만 사용할 수 있습니다.\n",
    "- 단, 마침표(.)는 처음과 끝에 사용할 수 없으며 또한 연속으로 사용할 수 없습니다.\n",
    "\n",
    "\n",
    "\"네오\"는 다음과 같이 7단계의 순차적인 처리 과정을 통해 신규 유저가 입력한 아이디가 카카오 아이디 규칙에 맞는 지 검사하고 규칙에 맞지 않은 경우 규칙에 맞는 새로운 아이디를 추천해 주려고 합니다.\n",
    "신규 유저가 입력한 아이디가 new_id 라고 한다면,\n",
    "\n",
    "    1단계 new_id의 모든 대문자를 대응되는 소문자로 치환합니다.\n",
    "    \n",
    "    2단계 new_id에서 알파벳 소문자, 숫자, 빼기(-), 밑줄(_), 마침표(.)를 제외한 모든 문자를 제거합니다.\n",
    "    \n",
    "    3단계 new_id에서 마침표(.)가 2번 이상 연속된 부분을 하나의 마침표(.)로 치환합니다.\n",
    "    \n",
    "    4단계 new_id에서 마침표(.)가 처음이나 끝에 위치한다면 제거합니다.\n",
    "    \n",
    "    5단계 new_id가 빈 문자열이라면, new_id에 \"a\"를 대입합니다.\n",
    "    \n",
    "    6단계 new_id의 길이가 16자 이상이면, new_id의 첫 15개의 문자를 제외한 나머지 문자들을 모두 제거합니다.\n",
    "     만약 제거 후 마침표(.)가 new_id의 끝에 위치한다면 끝에 위치한 마침표(.) 문자를 제거합니다.\n",
    "     \n",
    "    7단계 new_id의 길이가 2자 이하라면, new_id의 마지막 문자를 new_id의 길이가 3이 될 때까지 반복\n",
    "    \n"
   ]
  },
  {
   "cell_type": "markdown",
   "id": "d13ac05a",
   "metadata": {},
   "source": [
    " \n",
    " "
   ]
  },
  {
   "cell_type": "markdown",
   "id": "4e485f21",
   "metadata": {},
   "source": [
    "신규 유저가 입력한 아이디를 나타내는 new_id가 매개변수로 주어질 때, \"네오\"가 설계한 7단계의 처리 과정을 거친 후의 추천 아이디를 return 하도록 solution 함수를 완성해 주세요."
   ]
  },
  {
   "cell_type": "markdown",
   "id": "ab2f6d3b",
   "metadata": {},
   "source": [
    "\n"
   ]
  },
  {
   "cell_type": "markdown",
   "id": "8cf4085e",
   "metadata": {},
   "source": [
    "<제한 사항>\n",
    "- new_id는 길이 1 이상 1,000 이하인 문자열입니다.\n",
    "- new_id는 알파벳 대문자, 알파벳 소문자, 숫자, 특수문자로 구성되어 있습니다.\n",
    "- new_id에 나타날 수 있는 특수문자는 -_.~!@#$%^&*()=+[{]}:?,<>/ 로 한정됩니다."
   ]
  },
  {
   "cell_type": "markdown",
   "id": "8d5d0e9b",
   "metadata": {},
   "source": [
    "\n"
   ]
  },
  {
   "cell_type": "markdown",
   "id": "7ba2acfb",
   "metadata": {},
   "source": [
    "\n"
   ]
  },
  {
   "cell_type": "markdown",
   "id": "8255e7d8",
   "metadata": {},
   "source": [
    "[TIP]\n",
    "\n",
    "- re.sub(정규 표현식, 대상 문자열 , 치환 문자) \n",
    "    - 정규 표현식 참고 사이트 : https://algopoolja.tistory.com/20\n",
    "    \n",
    "    \n",
    "- str.strip([chars]) : 인자로 전달된 문자를 String의 왼쪽과 오른쪽에서 제거합니다.\n",
    "- str.lstrip([chars]) : 인자로 전달된 문자를 String의 왼쪽에서 제거합니다.\n",
    "- str.rstrip([chars]) : 인자로 전달된 문자를 String의 오른쪽에서 제거합니다."
   ]
  },
  {
   "cell_type": "markdown",
   "id": "f6df5235",
   "metadata": {},
   "source": [
    "\n"
   ]
  },
  {
   "cell_type": "markdown",
   "id": "4e45f1a6",
   "metadata": {},
   "source": [
    "\n"
   ]
  },
  {
   "cell_type": "markdown",
   "id": "38a31505",
   "metadata": {},
   "source": [
    "Solution "
   ]
  },
  {
   "cell_type": "code",
   "execution_count": 1,
   "id": "30ae709a",
   "metadata": {},
   "outputs": [],
   "source": [
    "import re\n",
    "\n",
    "def solution(new_id):\n",
    "\n",
    "    answer = new_id.lower()\n",
    "    answer = re.sub('[^a-z0-9\\-_.]', \"\", answer)\n",
    "    answer = re.sub('\\.+', \".\", answer)\n",
    "    answer = answer.lstrip(\".\")\n",
    "    answer = answer.rstrip(\".\")\n",
    "     \n",
    "    answer = \"a\" if len(answer) == 0 else answer[:15]\n",
    "    answer = answer.rstrip(\".\")\n",
    "    \n",
    "    if len(answer) <= 2 :\n",
    "        c = answer[len(answer)-1]\n",
    "        \n",
    "        while len(answer) < 3:\n",
    "            answer += c\n",
    "    \n",
    "    return answer"
   ]
  },
  {
   "cell_type": "markdown",
   "id": "48438c6d",
   "metadata": {},
   "source": [
    "\n"
   ]
  },
  {
   "cell_type": "markdown",
   "id": "8f890ed2",
   "metadata": {},
   "source": [
    "\n"
   ]
  },
  {
   "cell_type": "code",
   "execution_count": 2,
   "id": "bf7f135b",
   "metadata": {},
   "outputs": [
    {
     "data": {
      "text/plain": [
       "'bat.y.abcdefghi'"
      ]
     },
     "execution_count": 2,
     "metadata": {},
     "output_type": "execute_result"
    }
   ],
   "source": [
    "solution(\"...!@BaT#*..y.abcdefghijklm\")"
   ]
  }
 ],
 "metadata": {
  "kernelspec": {
   "display_name": "Python 3 (ipykernel)",
   "language": "python",
   "name": "python3"
  },
  "language_info": {
   "codemirror_mode": {
    "name": "ipython",
    "version": 3
   },
   "file_extension": ".py",
   "mimetype": "text/x-python",
   "name": "python",
   "nbconvert_exporter": "python",
   "pygments_lexer": "ipython3",
   "version": "3.9.7"
  }
 },
 "nbformat": 4,
 "nbformat_minor": 5
}
