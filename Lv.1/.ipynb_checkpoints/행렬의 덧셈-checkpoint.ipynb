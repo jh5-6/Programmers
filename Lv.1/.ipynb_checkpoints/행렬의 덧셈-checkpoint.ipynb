{
 "cells": [
  {
   "cell_type": "markdown",
   "id": "9644fc4d",
   "metadata": {},
   "source": [
    "# [연습문제] \n",
    "\n",
    "# 행렬의 덧셈"
   ]
  },
  {
   "cell_type": "markdown",
   "id": "59850d32",
   "metadata": {},
   "source": [
    "\n"
   ]
  },
  {
   "cell_type": "markdown",
   "id": "1d9d87e3",
   "metadata": {},
   "source": [
    "행렬의 덧셈은 행과 열의 크기가 같은 두 행렬의 같은 행, 같은 열의 값을 서로 더한 결과가 됩니다. 2개의 행렬 arr1과 arr2를 입력받아, 행렬 덧셈의 결과를 반환하는 함수, solution을 완성해주세요."
   ]
  },
  {
   "cell_type": "markdown",
   "id": "891d78e5",
   "metadata": {},
   "source": [
    "\n"
   ]
  },
  {
   "cell_type": "markdown",
   "id": "a8b4dcbc",
   "metadata": {},
   "source": [
    "< 제한 조건 > \n",
    "- 행렬 arr1, arr2의 행과 열의 길이는 500을 넘지 않습니다."
   ]
  },
  {
   "cell_type": "markdown",
   "id": "3e1a5c45",
   "metadata": {},
   "source": [
    "\n"
   ]
  },
  {
   "cell_type": "markdown",
   "id": "fcf4cf66",
   "metadata": {},
   "source": [
    "[TIP]\n",
    "\n",
    "* numpy -> Python 2에서 사용X Python 3에서 사용"
   ]
  },
  {
   "cell_type": "markdown",
   "id": "1fde769f",
   "metadata": {},
   "source": [
    "\n"
   ]
  },
  {
   "cell_type": "markdown",
   "id": "9c965974",
   "metadata": {},
   "source": [
    "\n"
   ]
  },
  {
   "cell_type": "markdown",
   "id": "61127165",
   "metadata": {},
   "source": [
    "Solution 1"
   ]
  },
  {
   "cell_type": "code",
   "execution_count": 9,
   "id": "dad843b9",
   "metadata": {},
   "outputs": [],
   "source": [
    "def solution(arr1, arr2):\n",
    "\n",
    "    for i in range(len(arr1)):\n",
    "        for j in range(len(arr1[i])):\n",
    "            arr1[i][j] += arr2[i][j]\n",
    "            \n",
    "    return arr1"
   ]
  },
  {
   "cell_type": "markdown",
   "id": "7e25e579",
   "metadata": {},
   "source": [
    "\n"
   ]
  },
  {
   "cell_type": "markdown",
   "id": "8e7bf89f",
   "metadata": {},
   "source": [
    "Solution 2 - import numpy "
   ]
  },
  {
   "cell_type": "code",
   "execution_count": 10,
   "id": "4bcc271e",
   "metadata": {},
   "outputs": [],
   "source": [
    "import numpy as np\n",
    "\n",
    "def solution(arr1, arr2):\n",
    "\n",
    "    a1 = np.array(arr1)\n",
    "    a2 = np.array(arr2)\n",
    "    a = a1 + a2 \n",
    "\n",
    "    return a.tolist()"
   ]
  },
  {
   "cell_type": "markdown",
   "id": "4ff82af2",
   "metadata": {},
   "source": [
    "\n"
   ]
  },
  {
   "cell_type": "markdown",
   "id": "fab751fe",
   "metadata": {},
   "source": [
    "\n"
   ]
  },
  {
   "cell_type": "code",
   "execution_count": 11,
   "id": "fae9d62a",
   "metadata": {},
   "outputs": [
    {
     "data": {
      "text/plain": [
       "[[4, 6], [7, 9]]"
      ]
     },
     "execution_count": 11,
     "metadata": {},
     "output_type": "execute_result"
    }
   ],
   "source": [
    "solution([[1,2],[2,3]],[[3,4],[5,6]])"
   ]
  }
 ],
 "metadata": {
  "kernelspec": {
   "display_name": "Python 3 (ipykernel)",
   "language": "python",
   "name": "python3"
  },
  "language_info": {
   "codemirror_mode": {
    "name": "ipython",
    "version": 3
   },
   "file_extension": ".py",
   "mimetype": "text/x-python",
   "name": "python",
   "nbconvert_exporter": "python",
   "pygments_lexer": "ipython3",
   "version": "3.9.7"
  }
 },
 "nbformat": 4,
 "nbformat_minor": 5
}
