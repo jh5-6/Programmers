{
 "cells": [
  {
   "cell_type": "markdown",
   "id": "d1dcc73e",
   "metadata": {},
   "source": [
    "# [연습문제]\n",
    "\n",
    "# JadenCase 문자열 만들기"
   ]
  },
  {
   "cell_type": "markdown",
   "id": "702d1ba6",
   "metadata": {},
   "source": [
    "\n"
   ]
  },
  {
   "cell_type": "markdown",
   "id": "84e75c84",
   "metadata": {},
   "source": [
    "JadenCase란 모든 단어의 첫 문자가 대문자이고, 그 외의 알파벳은 소문자인 문자열입니다. 단, 첫 문자가 알파벳이 아닐 때에는 이어지는 알파벳은 소문자로 쓰면 됩니다. (첫 번째 입출력 예 참고)\n",
    "문자열 s가 주어졌을 때, s를 JadenCase로 바꾼 문자열을 리턴하는 함수, solution을 완성해주세요"
   ]
  },
  {
   "cell_type": "markdown",
   "id": "abdfd1b5",
   "metadata": {},
   "source": [
    "\n"
   ]
  },
  {
   "cell_type": "markdown",
   "id": "64e1dc01",
   "metadata": {},
   "source": [
    "< 제한 조건 >\n",
    "- s는 길이 1 이상 200 이하인 문자열입니다.\n",
    "- s는 알파벳과 숫자, 공백문자(\" \")로 이루어져 있습니다.\n",
    "    - 숫자는 단어의 첫 문자로만 나옵니다.\n",
    "    - 숫자로만 이루어진 단어는 없습니다.\n",
    "    - 공백문자가 연속해서 나올 수 있습니다."
   ]
  },
  {
   "cell_type": "markdown",
   "id": "d6206b30",
   "metadata": {},
   "source": [
    "\n"
   ]
  },
  {
   "cell_type": "markdown",
   "id": "0a35afc0",
   "metadata": {},
   "source": [
    "\n"
   ]
  },
  {
   "cell_type": "markdown",
   "id": "d852e159",
   "metadata": {},
   "source": [
    "Solution"
   ]
  },
  {
   "cell_type": "code",
   "execution_count": 1,
   "id": "1ec05ad1",
   "metadata": {},
   "outputs": [],
   "source": [
    "def solution(s):\n",
    "     \n",
    "    answer = list(s.upper())\n",
    "    isFirst = True\n",
    "    \n",
    "    for idx, c in enumerate(s):\n",
    "        if not isFirst :\n",
    "            answer[idx] = c.lower()            \n",
    "            \n",
    "        isFirst = True  if c == \" \" else False\n",
    "\n",
    "    return \"\".join(answer)"
   ]
  },
  {
   "cell_type": "markdown",
   "id": "882f0860",
   "metadata": {},
   "source": [
    "\n"
   ]
  },
  {
   "cell_type": "markdown",
   "id": "107745c2",
   "metadata": {},
   "source": [
    "\n"
   ]
  },
  {
   "cell_type": "code",
   "execution_count": 2,
   "id": "05a78c28",
   "metadata": {},
   "outputs": [
    {
     "data": {
      "text/plain": [
       "'3people Unfollowed Me'"
      ]
     },
     "execution_count": 2,
     "metadata": {},
     "output_type": "execute_result"
    }
   ],
   "source": [
    "solution(\"3people unFollowed me\")"
   ]
  }
 ],
 "metadata": {
  "kernelspec": {
   "display_name": "Python 3 (ipykernel)",
   "language": "python",
   "name": "python3"
  },
  "language_info": {
   "codemirror_mode": {
    "name": "ipython",
    "version": 3
   },
   "file_extension": ".py",
   "mimetype": "text/x-python",
   "name": "python",
   "nbconvert_exporter": "python",
   "pygments_lexer": "ipython3",
   "version": "3.9.7"
  }
 },
 "nbformat": 4,
 "nbformat_minor": 5
}
