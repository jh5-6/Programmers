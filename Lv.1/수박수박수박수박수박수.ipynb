{
 "cells": [
  {
   "cell_type": "markdown",
   "id": "4463dbbb",
   "metadata": {},
   "source": [
    "# [연습문제]\n",
    "\n",
    "# 수박수박수박수박수박수?"
   ]
  },
  {
   "cell_type": "markdown",
   "id": "81e898be",
   "metadata": {},
   "source": [
    "\n"
   ]
  },
  {
   "cell_type": "markdown",
   "id": "f9c790ca",
   "metadata": {},
   "source": [
    "길이가 n이고, \"수박수박수박수....\"와 같은 패턴을 유지하는 문자열을 리턴하는 함수, solution을 완성하세요. 예를들어 n이 4이면 \"수박수박\"을 리턴하고 3이라면 \"수박수\"를 리턴하면 됩니다."
   ]
  },
  {
   "cell_type": "markdown",
   "id": "a734dc8a",
   "metadata": {},
   "source": [
    "\n"
   ]
  },
  {
   "cell_type": "markdown",
   "id": "5b87ed61",
   "metadata": {},
   "source": [
    "< 제한 조건 >\n",
    "- n은 길이 10,000이하인 자연수입니다."
   ]
  },
  {
   "cell_type": "markdown",
   "id": "2918ddd9",
   "metadata": {},
   "source": [
    "\n"
   ]
  },
  {
   "cell_type": "markdown",
   "id": "878ab7aa",
   "metadata": {},
   "source": [
    "\n"
   ]
  },
  {
   "cell_type": "markdown",
   "id": "3c9855db",
   "metadata": {},
   "source": [
    "Solution 1"
   ]
  },
  {
   "cell_type": "code",
   "execution_count": 1,
   "id": "5dcca9f3",
   "metadata": {},
   "outputs": [],
   "source": [
    "def solution(n):\n",
    "\n",
    "    return ''.join([\"수박\"[i % 2] for i in range(n)])"
   ]
  },
  {
   "cell_type": "markdown",
   "id": "d85f4cf7",
   "metadata": {},
   "source": [
    "\n"
   ]
  },
  {
   "cell_type": "markdown",
   "id": "9b970be3",
   "metadata": {},
   "source": [
    "Solution 2"
   ]
  },
  {
   "cell_type": "code",
   "execution_count": 4,
   "id": "2de000de",
   "metadata": {},
   "outputs": [],
   "source": [
    "def solution(n):\n",
    "\n",
    "    return '수박' * (n // 2) + '수' * (n % 2)"
   ]
  },
  {
   "cell_type": "markdown",
   "id": "9fefd768",
   "metadata": {},
   "source": [
    "\n"
   ]
  },
  {
   "cell_type": "markdown",
   "id": "23240e01",
   "metadata": {},
   "source": [
    "\n"
   ]
  },
  {
   "cell_type": "code",
   "execution_count": 5,
   "id": "0367861d",
   "metadata": {},
   "outputs": [
    {
     "data": {
      "text/plain": [
       "'수박수'"
      ]
     },
     "execution_count": 5,
     "metadata": {},
     "output_type": "execute_result"
    }
   ],
   "source": [
    "solution(3)"
   ]
  }
 ],
 "metadata": {
  "kernelspec": {
   "display_name": "Python 3 (ipykernel)",
   "language": "python",
   "name": "python3"
  },
  "language_info": {
   "codemirror_mode": {
    "name": "ipython",
    "version": 3
   },
   "file_extension": ".py",
   "mimetype": "text/x-python",
   "name": "python",
   "nbconvert_exporter": "python",
   "pygments_lexer": "ipython3",
   "version": "3.9.7"
  }
 },
 "nbformat": 4,
 "nbformat_minor": 5
}
