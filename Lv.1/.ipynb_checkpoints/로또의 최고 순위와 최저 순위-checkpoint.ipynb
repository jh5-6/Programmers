{
 "cells": [
  {
   "cell_type": "markdown",
   "id": "00228afc",
   "metadata": {},
   "source": [
    "# [2021 Dev-Matching: 웹 백엔드 개발자]\n",
    "\n",
    "# 로또의 최고 순위와 최저 순위"
   ]
  },
  {
   "cell_type": "markdown",
   "id": "f65424be",
   "metadata": {},
   "source": [
    "\n"
   ]
  },
  {
   "cell_type": "markdown",
   "id": "4a12a5f0",
   "metadata": {},
   "source": [
    "\n"
   ]
  },
  {
   "cell_type": "markdown",
   "id": "c9fac13f",
   "metadata": {},
   "source": [
    "로또 6/45(이하 '로또'로 표기)는 1부터 45까지의 숫자 중 6개를 찍어서 맞히는 대표적인 복권입니다. 아래는 로또의 순위를 정하는 방식입니다. \n",
    "\n",
    "    순위\t   당첨 내용\n",
    "    1\t     6개 번호가 모두 일치\n",
    "    2\t     5개 번호가 일치\n",
    "    3\t     4개 번호가 일치\n",
    "    4\t     3개 번호가 일치\n",
    "    5\t     2개 번호가 일치\n",
    "    6(낙첨)  그 외\n",
    "    \n",
    "로또를 구매한 민우는 당첨 번호 발표일을 학수고대하고 있었습니다. \n",
    "하지만, 민우의 동생이 로또에 낙서를 하여, 일부 번호를 알아볼 수 없게 되었습니다. \n",
    "당첨 번호 발표 후, 민우는 자신이 구매했던 로또로 당첨이 가능했던 최고 순위와 최저 순위를 알아보고 싶어 졌습니다.\n",
    "알아볼 수 없는 번호를 0으로 표기하기로 하고, 민우가 구매한 로또 번호 6개가 44, 1, 0, 0, 31 25라고 가정해보겠습니다. 당첨 번호 6개가 31, 10, 45, 1, 6, 19라면, 당첨 가능한 최고 순위와 최저 순위의 한 예는 아래와 같습니다.\n",
    "\n",
    "    당첨 번호\t      31\t 10\t    45\t   1\t  6\t    19\t   결과\n",
    "    최고 순위 번호\t31\t   0→10\t 44\t    1\t   0→6\t25\t   4개 번호 일치, 3등\n",
    "    최저 순위 번호\t31\t   0→11\t 44\t    1\t   0→7\t25\t   2개 번호 일치, 5등\n",
    "\n",
    "- 순서와 상관없이, 구매한 로또에 당첨 번호와 일치하는 번호가 있으면 맞힌 걸로 인정됩니다.\n",
    "\n",
    "- 알아볼 수 없는 두 개의 번호를 각각 10, 6이라고 가정하면 3등에 당첨될 수 있습니다.\n",
    "    - 3등을 만드는 다른 방법들도 존재합니다. 하지만, 2등 이상으로 만드는 것은 불가능합니다.\n",
    "    \n",
    "- 알아볼 수 없는 두 개의 번호를 각각 11, 7이라고 가정하면 5등에 당첨될 수 있습니다.\n",
    "    - 5등을 만드는 다른 방법들도 존재합니다. 하지만, 6등(낙첨)으로 만드는 것은 불가능합니다.\n",
    "    \n",
    "    \n",
    "민우가 구매한 로또 번호를 담은 배열 lottos, 당첨 번호를 담은 배열 win_nums가 매개변수로 주어집니다. \n",
    "이때, 당첨 가능한 최고 순위와 최저 순위를 차례대로 배열에 담아서 return 하도록 solution 함수를 완성해주세요."
   ]
  },
  {
   "cell_type": "markdown",
   "id": "b229b809",
   "metadata": {},
   "source": [
    "\n"
   ]
  },
  {
   "cell_type": "markdown",
   "id": "b39d7979",
   "metadata": {},
   "source": [
    "<제한 사항>\n",
    "- lottos는 길이 6인 정수 배열입니다.\n",
    "\n",
    "- lottos의 모든 원소는 0 이상 45 이하인 정수입니다.\n",
    "    - 0은 알아볼 수 없는 숫자를 의미합니다.\n",
    "    - 0을 제외한 다른 숫자들은 lottos에 2개 이상 담겨있지 않습니다.\n",
    "    - lottos의 원소들은 정렬되어 있지 않을 수도 있습니다.\n",
    "    \n",
    "- win_nums은 길이 6인 정수 배열입니다.\n",
    "\n",
    "- win_nums의 모든 원소는 1 이상 45 이하인 정수입니다.\n",
    "    - win_nums에는 같은 숫자가 2개 이상 담겨있지 않습니다.\n",
    "    - win_nums의 원소들은 정렬되어 있지 않을 수도 있습니다."
   ]
  },
  {
   "cell_type": "markdown",
   "id": "a8d3ce20",
   "metadata": {},
   "source": [
    "\n"
   ]
  },
  {
   "cell_type": "markdown",
   "id": "84474e5e",
   "metadata": {},
   "source": [
    "\n"
   ]
  },
  {
   "cell_type": "markdown",
   "id": "e88ec697",
   "metadata": {},
   "source": [
    "Solution 1"
   ]
  },
  {
   "cell_type": "code",
   "execution_count": 22,
   "id": "1ebdd923",
   "metadata": {},
   "outputs": [],
   "source": [
    "def getRanking(cnt):\n",
    "    if cnt >=2 :\n",
    "        return 7 - cnt\n",
    "    else :\n",
    "        return 6\n",
    "\n",
    "def solution(lottos, win_nums):\n",
    "    \n",
    "    lottos = set(l for l in lottos if l != 0)\n",
    "    win_nums = set(win_nums)\n",
    "    \n",
    "    min_score = len(lottos & win_nums)\n",
    "    max_score = min_score + (6 - len(lottos))\n",
    "    \n",
    "    return [getRanking(max_score), getRanking(min_score)]"
   ]
  },
  {
   "cell_type": "markdown",
   "id": "1efcb93f",
   "metadata": {},
   "source": [
    "\n"
   ]
  },
  {
   "cell_type": "markdown",
   "id": "a0cd7255",
   "metadata": {},
   "source": [
    "\n"
   ]
  },
  {
   "cell_type": "markdown",
   "id": "ed1b5f09",
   "metadata": {},
   "source": [
    "Solution 2"
   ]
  },
  {
   "cell_type": "code",
   "execution_count": 20,
   "id": "156ed370",
   "metadata": {},
   "outputs": [],
   "source": [
    "def solution(lottos, win_nums):\n",
    "    \n",
    "    answer = 0\n",
    "        \n",
    "    rank = [6, 6, 5, 4, 3, 2, 1]\n",
    "    cnt_0 = lottos.count(0)\n",
    "    \n",
    "    for x in win_nums:\n",
    "        if x in lottos:\n",
    "            answer += 1\n",
    "    \n",
    "    return [rank[answer + cnt_0], rank[answer]]"
   ]
  },
  {
   "cell_type": "markdown",
   "id": "be27b843",
   "metadata": {},
   "source": [
    "\n"
   ]
  },
  {
   "cell_type": "markdown",
   "id": "1c003303",
   "metadata": {},
   "source": [
    "\n"
   ]
  },
  {
   "cell_type": "code",
   "execution_count": 21,
   "id": "dddb0d5e",
   "metadata": {},
   "outputs": [
    {
     "data": {
      "text/plain": [
       "[3, 5]"
      ]
     },
     "execution_count": 21,
     "metadata": {},
     "output_type": "execute_result"
    }
   ],
   "source": [
    "solution([44, 1, 0, 0, 31, 25], [31, 10, 45, 1, 6, 19])"
   ]
  }
 ],
 "metadata": {
  "kernelspec": {
   "display_name": "Python 3 (ipykernel)",
   "language": "python",
   "name": "python3"
  },
  "language_info": {
   "codemirror_mode": {
    "name": "ipython",
    "version": 3
   },
   "file_extension": ".py",
   "mimetype": "text/x-python",
   "name": "python",
   "nbconvert_exporter": "python",
   "pygments_lexer": "ipython3",
   "version": "3.9.7"
  }
 },
 "nbformat": 4,
 "nbformat_minor": 5
}
