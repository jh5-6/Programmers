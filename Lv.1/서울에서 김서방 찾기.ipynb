{
 "cells": [
  {
   "cell_type": "markdown",
   "id": "3534f6a6",
   "metadata": {},
   "source": [
    "# [연습문제]\n",
    "\n",
    "# 서울에서 김서방 찾기"
   ]
  },
  {
   "cell_type": "markdown",
   "id": "6b217a80",
   "metadata": {},
   "source": [
    "\n"
   ]
  },
  {
   "cell_type": "markdown",
   "id": "a120cb7f",
   "metadata": {},
   "source": [
    "String형 배열 seoul의 element중 \"Kim\"의 위치 x를 찾아, \"김서방은 x에 있다\"는 String을 반환하는 함수, solution을 완성하세요. seoul에 \"Kim\"은 오직 한 번만 나타나며 잘못된 값이 입력되는 경우는 없습니다."
   ]
  },
  {
   "cell_type": "markdown",
   "id": "70606244",
   "metadata": {},
   "source": [
    "\n"
   ]
  },
  {
   "cell_type": "markdown",
   "id": "55867158",
   "metadata": {},
   "source": [
    "< 제한 사항 >\n",
    "- seoul은 길이 1 이상, 1000 이하인 배열입니다.\n",
    "- seoul의 원소는 길이 1 이상, 20 이하인 문자열입니다.\n",
    "- \"Kim\"은 반드시 seoul 안에 포함되어 있습니다."
   ]
  },
  {
   "cell_type": "markdown",
   "id": "e6be1883",
   "metadata": {},
   "source": [
    "\n"
   ]
  },
  {
   "cell_type": "markdown",
   "id": "984e55c2",
   "metadata": {},
   "source": [
    "\n"
   ]
  },
  {
   "cell_type": "markdown",
   "id": "2e609d30",
   "metadata": {},
   "source": [
    "Solution 1"
   ]
  },
  {
   "cell_type": "code",
   "execution_count": null,
   "id": "5c495a28",
   "metadata": {},
   "outputs": [],
   "source": [
    "def solution(seoul):\n",
    "\n",
    "    idx = seoul.index(\"Kim\")\n",
    "    return \"김서방은 \" + str(idx) +\"에 있다\""
   ]
  },
  {
   "cell_type": "markdown",
   "id": "8655436a",
   "metadata": {},
   "source": [
    "\n"
   ]
  },
  {
   "cell_type": "markdown",
   "id": "377eb4bf",
   "metadata": {},
   "source": [
    "Solution 2 - format()"
   ]
  },
  {
   "cell_type": "code",
   "execution_count": null,
   "id": "0ceba885",
   "metadata": {},
   "outputs": [],
   "source": [
    "def solution(seoul):\n",
    "\n",
    "    return \"김서방은 {}에 있다\".format(seoul.index(\"Kim\"))"
   ]
  },
  {
   "cell_type": "markdown",
   "id": "eacf8f75",
   "metadata": {},
   "source": [
    "\n"
   ]
  },
  {
   "cell_type": "markdown",
   "id": "ed3c3f3f",
   "metadata": {},
   "source": [
    "\n"
   ]
  },
  {
   "cell_type": "code",
   "execution_count": null,
   "id": "f470de25",
   "metadata": {},
   "outputs": [],
   "source": [
    "solution([\"Jane\", \"Kim\"])"
   ]
  }
 ],
 "metadata": {
  "kernelspec": {
   "display_name": "Python 3 (ipykernel)",
   "language": "python",
   "name": "python3"
  },
  "language_info": {
   "codemirror_mode": {
    "name": "ipython",
    "version": 3
   },
   "file_extension": ".py",
   "mimetype": "text/x-python",
   "name": "python",
   "nbconvert_exporter": "python",
   "pygments_lexer": "ipython3",
   "version": "3.9.7"
  }
 },
 "nbformat": 4,
 "nbformat_minor": 5
}
