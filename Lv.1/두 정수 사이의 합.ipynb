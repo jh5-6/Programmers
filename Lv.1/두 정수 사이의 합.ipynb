{
 "cells": [
  {
   "cell_type": "markdown",
   "id": "a11b6453",
   "metadata": {},
   "source": [
    "# [연습문제]\n",
    "\n",
    "# 두 정수 사이의 합"
   ]
  },
  {
   "cell_type": "markdown",
   "id": "fc8d610a",
   "metadata": {},
   "source": [
    "\n"
   ]
  },
  {
   "cell_type": "markdown",
   "id": "96b570d2",
   "metadata": {},
   "source": [
    "두 정수 a, b가 주어졌을 때 a와 b 사이에 속한 모든 정수의 합을 리턴하는 함수, solution을 완성하세요.\n",
    "예를 들어 a = 3, b = 5인 경우, 3 + 4 + 5 = 12이므로 12를 리턴합니다."
   ]
  },
  {
   "cell_type": "markdown",
   "id": "1613eba0",
   "metadata": {},
   "source": [
    "\n"
   ]
  },
  {
   "cell_type": "markdown",
   "id": "319d8447",
   "metadata": {},
   "source": [
    "< 제한 조건 >\n",
    "- a와 b가 같은 경우는 둘 중 아무 수나 리턴하세요.\n",
    "- a와 b는 -10,000,000 이상 10,000,000 이하인 정수입니다.\n",
    "- a와 b의 대소관계는 정해져있지 않습니다."
   ]
  },
  {
   "cell_type": "markdown",
   "id": "3b56e207",
   "metadata": {},
   "source": [
    "\n"
   ]
  },
  {
   "cell_type": "markdown",
   "id": "434b1cb3",
   "metadata": {},
   "source": [
    "\n"
   ]
  },
  {
   "cell_type": "markdown",
   "id": "638946a1",
   "metadata": {},
   "source": [
    "Solution 1"
   ]
  },
  {
   "cell_type": "code",
   "execution_count": 9,
   "id": "2b40eb15",
   "metadata": {},
   "outputs": [],
   "source": [
    "def solution(a, b):\n",
    "    \n",
    "    if a == b:\n",
    "        return a\n",
    "    \n",
    "    add = a + b\n",
    "    diff = abs(a - b)\n",
    "\n",
    "    if diff % 2 == 0 :\n",
    "        return ((diff // 2) * add + (add // 2))\n",
    "    \n",
    "    else :\n",
    "        return add * (diff // 2 + 1)"
   ]
  },
  {
   "cell_type": "markdown",
   "id": "1d94be34",
   "metadata": {},
   "source": [
    "\n"
   ]
  },
  {
   "cell_type": "markdown",
   "id": "9b853af8",
   "metadata": {},
   "source": [
    "Solution 2 "
   ]
  },
  {
   "cell_type": "code",
   "execution_count": 10,
   "id": "8ff2ff2a",
   "metadata": {},
   "outputs": [],
   "source": [
    "def solution(a, b):\n",
    "    \n",
    "    if a == b:\n",
    "        return a\n",
    "\n",
    "    return (a + b) / 2 * ((abs(a - b)) + 1)"
   ]
  },
  {
   "cell_type": "markdown",
   "id": "501a392f",
   "metadata": {},
   "source": [
    "\n"
   ]
  },
  {
   "cell_type": "markdown",
   "id": "e5b1c973",
   "metadata": {},
   "source": [
    "Solution 2"
   ]
  },
  {
   "cell_type": "code",
   "execution_count": 11,
   "id": "9c5510ea",
   "metadata": {},
   "outputs": [],
   "source": [
    "def solution(a, b):\n",
    "\n",
    "    a, b = min(a, b), max(a, b)\n",
    "    \n",
    "    return sum(range(a, b + 1))"
   ]
  },
  {
   "cell_type": "markdown",
   "id": "1a6f2ea8",
   "metadata": {},
   "source": [
    "\n"
   ]
  },
  {
   "cell_type": "markdown",
   "id": "27f67170",
   "metadata": {},
   "source": [
    "\n"
   ]
  },
  {
   "cell_type": "code",
   "execution_count": 12,
   "id": "f49b2512",
   "metadata": {},
   "outputs": [
    {
     "data": {
      "text/plain": [
       "12"
      ]
     },
     "execution_count": 12,
     "metadata": {},
     "output_type": "execute_result"
    }
   ],
   "source": [
    "solution(3, 5)"
   ]
  }
 ],
 "metadata": {
  "kernelspec": {
   "display_name": "Python 3 (ipykernel)",
   "language": "python",
   "name": "python3"
  },
  "language_info": {
   "codemirror_mode": {
    "name": "ipython",
    "version": 3
   },
   "file_extension": ".py",
   "mimetype": "text/x-python",
   "name": "python",
   "nbconvert_exporter": "python",
   "pygments_lexer": "ipython3",
   "version": "3.9.7"
  }
 },
 "nbformat": 4,
 "nbformat_minor": 5
}
