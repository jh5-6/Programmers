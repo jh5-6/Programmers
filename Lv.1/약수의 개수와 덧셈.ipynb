{
 "cells": [
  {
   "cell_type": "markdown",
   "id": "a873c008",
   "metadata": {},
   "source": [
    "# [월간 코드 챌린지 시즌2]\n",
    "\n",
    "# 약수의 개수와 덧셈"
   ]
  },
  {
   "cell_type": "markdown",
   "id": "66b766d5",
   "metadata": {},
   "source": [
    "\n"
   ]
  },
  {
   "cell_type": "markdown",
   "id": "7081417d",
   "metadata": {},
   "source": [
    "두 정수 left와 right가 매개변수로 주어집니다. left부터 right까지의 모든 수들 중에서, 약수의 개수가 짝수인 수는 더하고, 약수의 개수가 홀수인 수는 뺀 수를 return 하도록 solution 함수를 완성해주세요."
   ]
  },
  {
   "cell_type": "markdown",
   "id": "aef178e3",
   "metadata": {},
   "source": [
    "\n"
   ]
  },
  {
   "cell_type": "markdown",
   "id": "0c0bbb1b",
   "metadata": {},
   "source": [
    "< 제한 사항 > \n",
    "- 1 ≤ left ≤ right ≤ 1,000"
   ]
  },
  {
   "cell_type": "markdown",
   "id": "94e1c2a9",
   "metadata": {},
   "source": [
    "\n"
   ]
  },
  {
   "cell_type": "markdown",
   "id": "fa1fee95",
   "metadata": {},
   "source": [
    "[TIP]\n",
    "\n",
    "- 제곱수의 약수의 개수는 홀수개\n",
    "- 제곱수가 아닌 수의 약수의 개수는 짝수개"
   ]
  },
  {
   "cell_type": "markdown",
   "id": "d1f5727e",
   "metadata": {},
   "source": [
    "\n"
   ]
  },
  {
   "cell_type": "markdown",
   "id": "a07d59c4",
   "metadata": {},
   "source": [
    "\n"
   ]
  },
  {
   "cell_type": "markdown",
   "id": "282f78dc",
   "metadata": {},
   "source": [
    "Solution 1"
   ]
  },
  {
   "cell_type": "code",
   "execution_count": 4,
   "id": "3b8ed39f",
   "metadata": {},
   "outputs": [],
   "source": [
    "def cntDivisor(num):\n",
    "    cnt = 0  \n",
    "    \n",
    "    for i in range(1, num + 1):\n",
    "        if num %i == 0:\n",
    "            cnt += 1\n",
    "            \n",
    "    return cnt \n",
    "\n",
    "def solution(left, right):\n",
    "    answer = 0   \n",
    "    \n",
    "    for i in range(left, right + 1):\n",
    "        if cntDivisor(i) % 2 == 0: \n",
    "            answer += i \n",
    "        else: \n",
    "            answer -= i \n",
    "            \n",
    "    return answer"
   ]
  },
  {
   "cell_type": "markdown",
   "id": "c80a2b37",
   "metadata": {},
   "source": [
    "\n"
   ]
  },
  {
   "cell_type": "markdown",
   "id": "c9690514",
   "metadata": {},
   "source": [
    "Solution 2 제곱수의 약수 = 홀수"
   ]
  },
  {
   "cell_type": "code",
   "execution_count": 2,
   "id": "b7819471",
   "metadata": {},
   "outputs": [],
   "source": [
    "def solution(left, right):\n",
    "    answer = 0\n",
    "    \n",
    "    for i in range(left, right + 1):\n",
    "        if int(i**0.5) == i **0.5:\n",
    "            answer -= i\n",
    "        else:\n",
    "            answer += i\n",
    "    return answer"
   ]
  },
  {
   "cell_type": "markdown",
   "id": "d67d2e1a",
   "metadata": {},
   "source": [
    "\n"
   ]
  },
  {
   "cell_type": "markdown",
   "id": "fa55a573",
   "metadata": {},
   "source": [
    "\n"
   ]
  },
  {
   "cell_type": "code",
   "execution_count": 3,
   "id": "6d57c8ce",
   "metadata": {},
   "outputs": [
    {
     "data": {
      "text/plain": [
       "43"
      ]
     },
     "execution_count": 3,
     "metadata": {},
     "output_type": "execute_result"
    }
   ],
   "source": [
    "solution(13, 17)"
   ]
  }
 ],
 "metadata": {
  "kernelspec": {
   "display_name": "Python 3 (ipykernel)",
   "language": "python",
   "name": "python3"
  },
  "language_info": {
   "codemirror_mode": {
    "name": "ipython",
    "version": 3
   },
   "file_extension": ".py",
   "mimetype": "text/x-python",
   "name": "python",
   "nbconvert_exporter": "python",
   "pygments_lexer": "ipython3",
   "version": "3.9.7"
  }
 },
 "nbformat": 4,
 "nbformat_minor": 5
}
