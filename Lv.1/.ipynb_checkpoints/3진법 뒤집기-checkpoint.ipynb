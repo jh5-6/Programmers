{
 "cells": [
  {
   "cell_type": "markdown",
   "id": "dd1768db",
   "metadata": {},
   "source": [
    "# [월간 코드 챌린지 시즌1]\n",
    "\n",
    "# 3진법 뒤집기"
   ]
  },
  {
   "cell_type": "markdown",
   "id": "145e1a0b",
   "metadata": {},
   "source": [
    "\n"
   ]
  },
  {
   "cell_type": "markdown",
   "id": "f3691e3a",
   "metadata": {},
   "source": [
    "자연수 n이 매개변수로 주어집니다. n을 3진법 상에서 앞뒤로 뒤집은 후, 이를 다시 10진법으로 표현한 수를 return 하도록 solution 함수를 완성해주세요."
   ]
  },
  {
   "cell_type": "markdown",
   "id": "203f6a4f",
   "metadata": {},
   "source": [
    "\n"
   ]
  },
  {
   "cell_type": "markdown",
   "id": "7bf3c489",
   "metadata": {},
   "source": [
    "< 제한사항> \n",
    "- n은 1 이상 100,000,000 이하인 자연수입니다."
   ]
  },
  {
   "cell_type": "markdown",
   "id": "7d7132d7",
   "metadata": {},
   "source": [
    "\n"
   ]
  },
  {
   "cell_type": "markdown",
   "id": "0827ee69",
   "metadata": {},
   "source": [
    "[TIP]\n",
    "\n",
    "* int(value, base)\n",
    "    - [default] value = 0 \n",
    "    - [default] base = 10 (10진법) : 2 ~ 36 사이의 값 입력 가능"
   ]
  },
  {
   "cell_type": "markdown",
   "id": "76d02886",
   "metadata": {},
   "source": [
    "\n"
   ]
  },
  {
   "cell_type": "markdown",
   "id": "43ab8b3d",
   "metadata": {},
   "source": [
    "\n"
   ]
  },
  {
   "cell_type": "markdown",
   "id": "70417ed2",
   "metadata": {},
   "source": [
    "Solution 1"
   ]
  },
  {
   "cell_type": "code",
   "execution_count": 48,
   "id": "de36086e",
   "metadata": {},
   "outputs": [],
   "source": [
    "def solution(n):\n",
    "    answer = 0\n",
    "    tmp = []\n",
    "    \n",
    "    while n > 0:\n",
    "        tmp.append(n % 3)\n",
    "        n = n // 3\n",
    "        \n",
    "    for i in range(len(tmp)):\n",
    "        answer += (3**i) * tmp.pop()\n",
    "        \n",
    "    return answer"
   ]
  },
  {
   "cell_type": "markdown",
   "id": "8d344577",
   "metadata": {},
   "source": [
    "\n"
   ]
  },
  {
   "cell_type": "markdown",
   "id": "330c3662",
   "metadata": {},
   "source": [
    "Solution 2"
   ]
  },
  {
   "cell_type": "code",
   "execution_count": 49,
   "id": "df54e164",
   "metadata": {},
   "outputs": [],
   "source": [
    "def solution(n):\n",
    "    tmp = ''\n",
    "    \n",
    "    while n > 0:\n",
    "        tmp += str(n % 3)\n",
    "        n = n // 3\n",
    "        \n",
    "    return int(tmp, 3)"
   ]
  },
  {
   "cell_type": "markdown",
   "id": "43929bfa",
   "metadata": {},
   "source": [
    "\n"
   ]
  },
  {
   "cell_type": "markdown",
   "id": "21f01e07",
   "metadata": {},
   "source": [
    "\n"
   ]
  },
  {
   "cell_type": "code",
   "execution_count": 47,
   "id": "a998e98c",
   "metadata": {},
   "outputs": [
    {
     "data": {
      "text/plain": [
       "7"
      ]
     },
     "execution_count": 47,
     "metadata": {},
     "output_type": "execute_result"
    }
   ],
   "source": [
    "solution(45)"
   ]
  }
 ],
 "metadata": {
  "kernelspec": {
   "display_name": "Python 3 (ipykernel)",
   "language": "python",
   "name": "python3"
  },
  "language_info": {
   "codemirror_mode": {
    "name": "ipython",
    "version": 3
   },
   "file_extension": ".py",
   "mimetype": "text/x-python",
   "name": "python",
   "nbconvert_exporter": "python",
   "pygments_lexer": "ipython3",
   "version": "3.9.7"
  }
 },
 "nbformat": 4,
 "nbformat_minor": 5
}
