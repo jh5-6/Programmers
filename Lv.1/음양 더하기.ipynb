{
 "cells": [
  {
   "cell_type": "markdown",
   "id": "ec5b3e99",
   "metadata": {},
   "source": [
    "# [월간 코드 챌린지 시즌2]\n",
    "\n",
    "# 음양 더하기"
   ]
  },
  {
   "cell_type": "markdown",
   "id": "3867ca84",
   "metadata": {},
   "source": [
    "\n"
   ]
  },
  {
   "cell_type": "markdown",
   "id": "3abe9328",
   "metadata": {},
   "source": [
    "\n"
   ]
  },
  {
   "cell_type": "markdown",
   "id": "d7826654",
   "metadata": {},
   "source": [
    "어떤 정수들이 있습니다. 이 정수들의 절댓값을 차례대로 담은 정수 배열 absolutes와 이 정수들의 부호를 차례대로 담은 불리언 배열 signs가 매개변수로 주어집니다. 실제 정수들의 합을 구하여 return 하도록 solution 함수를 완성해주세요."
   ]
  },
  {
   "cell_type": "markdown",
   "id": "cbf1b9ab",
   "metadata": {},
   "source": [
    "\n"
   ]
  },
  {
   "cell_type": "markdown",
   "id": "ef4a3e59",
   "metadata": {},
   "source": [
    "<제한 사항> \n",
    "- absolutes의 길이는 1 이상 1,000 이하입니다.\n",
    "    - absolutes의 모든 수는 각각 1 이상 1,000 이하입니다.\n",
    "- signs의 길이는 absolutes의 길이와 같습니다.\n",
    "    - signs[i] 가 참이면 absolutes[i] 의 실제 정수가 양수임을, 그렇지 않으면 음수임을 의미합니다."
   ]
  },
  {
   "cell_type": "markdown",
   "id": "f53702c8",
   "metadata": {},
   "source": [
    "\n"
   ]
  },
  {
   "cell_type": "markdown",
   "id": "75eb4849",
   "metadata": {},
   "source": [
    "\n"
   ]
  },
  {
   "cell_type": "markdown",
   "id": "46d10b75",
   "metadata": {},
   "source": [
    "Solution"
   ]
  },
  {
   "cell_type": "code",
   "execution_count": 18,
   "id": "45b97bde",
   "metadata": {},
   "outputs": [],
   "source": [
    "def solution(absolutes, signs):\n",
    "    \n",
    "    answer = 0\n",
    "\n",
    "    for s,n in  zip(signs, absolutes):\n",
    "        sNum= (-1) * n if not s else n\n",
    "        answer += sNum\n",
    "            \n",
    "    return answer"
   ]
  },
  {
   "cell_type": "markdown",
   "id": "6dcaed8f",
   "metadata": {},
   "source": [
    "\n"
   ]
  },
  {
   "cell_type": "markdown",
   "id": "e2e60ff7",
   "metadata": {},
   "source": [
    "\n"
   ]
  },
  {
   "cell_type": "code",
   "execution_count": 17,
   "id": "a33dd9e0",
   "metadata": {},
   "outputs": [
    {
     "data": {
      "text/plain": [
       "9"
      ]
     },
     "execution_count": 17,
     "metadata": {},
     "output_type": "execute_result"
    }
   ],
   "source": [
    "solution([4,7,12],[True,False,True])"
   ]
  }
 ],
 "metadata": {
  "kernelspec": {
   "display_name": "Python 3 (ipykernel)",
   "language": "python",
   "name": "python3"
  },
  "language_info": {
   "codemirror_mode": {
    "name": "ipython",
    "version": 3
   },
   "file_extension": ".py",
   "mimetype": "text/x-python",
   "name": "python",
   "nbconvert_exporter": "python",
   "pygments_lexer": "ipython3",
   "version": "3.9.7"
  }
 },
 "nbformat": 4,
 "nbformat_minor": 5
}
