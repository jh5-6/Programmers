{
 "cells": [
  {
   "cell_type": "markdown",
   "id": "9262c155",
   "metadata": {},
   "source": [
    "# [연습문제]\n",
    "\n",
    "# 문자열을 정수로 바꾸기"
   ]
  },
  {
   "cell_type": "markdown",
   "id": "b846889f",
   "metadata": {},
   "source": [
    "\n"
   ]
  },
  {
   "cell_type": "markdown",
   "id": "427fdfea",
   "metadata": {},
   "source": [
    "문자열 s를 숫자로 변환한 결과를 반환하는 함수, solution을 완성하세요."
   ]
  },
  {
   "cell_type": "markdown",
   "id": "2a87812c",
   "metadata": {},
   "source": [
    "\n"
   ]
  },
  {
   "cell_type": "markdown",
   "id": "a1c892cc",
   "metadata": {},
   "source": [
    "< 제한 조건 >\n",
    "- s의 길이는 1 이상 5이하입니다.\n",
    "- s의 맨앞에는 부호(+, -)가 올 수 있습니다.\n",
    "- s는 부호와 숫자로만 이루어져있습니다.\n",
    "- s는 \"0\"으로 시작하지 않습니다."
   ]
  },
  {
   "cell_type": "markdown",
   "id": "f9784ba2",
   "metadata": {},
   "source": [
    "\n"
   ]
  },
  {
   "cell_type": "markdown",
   "id": "9b1e0ecd",
   "metadata": {},
   "source": [
    "\n"
   ]
  },
  {
   "cell_type": "markdown",
   "id": "1c82e9cf",
   "metadata": {},
   "source": [
    "Solution 1"
   ]
  },
  {
   "cell_type": "code",
   "execution_count": 1,
   "id": "07893127",
   "metadata": {},
   "outputs": [],
   "source": [
    "def solution(s):\n",
    "\n",
    "    return int(s)"
   ]
  },
  {
   "cell_type": "markdown",
   "id": "090cd619",
   "metadata": {},
   "source": [
    "\n"
   ]
  },
  {
   "cell_type": "markdown",
   "id": "f6f4da1b",
   "metadata": {},
   "source": [
    "Solution 2"
   ]
  },
  {
   "cell_type": "code",
   "execution_count": 2,
   "id": "50ed2056",
   "metadata": {},
   "outputs": [],
   "source": [
    "def solution(s):\n",
    "    \n",
    "    answer = 0  \n",
    "    \n",
    "    for idx, n in enumerate(s[::-1]) :        \n",
    "        if n == '-':\n",
    "            answer *= -1\n",
    "        else :\n",
    "            answer += int(n) * (10 ** idx)\n",
    "            \n",
    "    return answer"
   ]
  },
  {
   "cell_type": "markdown",
   "id": "7a489473",
   "metadata": {},
   "source": [
    "\n"
   ]
  },
  {
   "cell_type": "markdown",
   "id": "03701060",
   "metadata": {},
   "source": [
    "\n"
   ]
  },
  {
   "cell_type": "code",
   "execution_count": 3,
   "id": "73214b68",
   "metadata": {},
   "outputs": [
    {
     "data": {
      "text/plain": [
       "-1234"
      ]
     },
     "execution_count": 3,
     "metadata": {},
     "output_type": "execute_result"
    }
   ],
   "source": [
    "solution(\"-1234\")"
   ]
  }
 ],
 "metadata": {
  "kernelspec": {
   "display_name": "Python 3 (ipykernel)",
   "language": "python",
   "name": "python3"
  },
  "language_info": {
   "codemirror_mode": {
    "name": "ipython",
    "version": 3
   },
   "file_extension": ".py",
   "mimetype": "text/x-python",
   "name": "python",
   "nbconvert_exporter": "python",
   "pygments_lexer": "ipython3",
   "version": "3.9.7"
  }
 },
 "nbformat": 4,
 "nbformat_minor": 5
}
