{
 "cells": [
  {
   "cell_type": "markdown",
   "id": "bbd44ecd",
   "metadata": {},
   "source": [
    "# [연습문제]\n",
    "\n",
    "# [x만큼 간격이 있는 n개의 숫자]"
   ]
  },
  {
   "cell_type": "markdown",
   "id": "c24d9872",
   "metadata": {},
   "source": [
    "\n"
   ]
  },
  {
   "cell_type": "markdown",
   "id": "4bd24505",
   "metadata": {},
   "source": [
    "함수 solution은 정수 x와 자연수 n을 입력 받아, x부터 시작해 x씩 증가하는 숫자를 n개 지니는 리스트를 리턴해야 합니다. 다음 제한 조건을 보고, 조건을 만족하는 함수, solution을 완성해주세요."
   ]
  },
  {
   "cell_type": "markdown",
   "id": "77d6c836",
   "metadata": {},
   "source": [
    "\n"
   ]
  },
  {
   "cell_type": "markdown",
   "id": "8d0f4890",
   "metadata": {},
   "source": [
    "< 제한 조건 >\n",
    "- x는 -10000000 이상, 10000000 이하인 정수입니다.\n",
    "- n은 1000 이하인 자연수입니다."
   ]
  },
  {
   "cell_type": "markdown",
   "id": "5d8dc0b4",
   "metadata": {},
   "source": [
    "\n",
    "\n"
   ]
  },
  {
   "cell_type": "markdown",
   "id": "88b6ddb7",
   "metadata": {},
   "source": [
    "\n"
   ]
  },
  {
   "cell_type": "markdown",
   "id": "27441508",
   "metadata": {},
   "source": [
    "Solution"
   ]
  },
  {
   "cell_type": "code",
   "execution_count": 1,
   "id": "4f105618",
   "metadata": {},
   "outputs": [],
   "source": [
    "def solution(x, n):\n",
    "    \n",
    "    return [x * i for i in range(1, n + 1)]"
   ]
  },
  {
   "cell_type": "markdown",
   "id": "95cff364",
   "metadata": {},
   "source": [
    "\n"
   ]
  },
  {
   "cell_type": "markdown",
   "id": "9032bb44",
   "metadata": {},
   "source": [
    "\n"
   ]
  },
  {
   "cell_type": "code",
   "execution_count": 2,
   "id": "ce88d27c",
   "metadata": {},
   "outputs": [
    {
     "data": {
      "text/plain": [
       "[2, 4, 6, 8, 10]"
      ]
     },
     "execution_count": 2,
     "metadata": {},
     "output_type": "execute_result"
    }
   ],
   "source": [
    "solution(2, 5)"
   ]
  }
 ],
 "metadata": {
  "kernelspec": {
   "display_name": "Python 3 (ipykernel)",
   "language": "python",
   "name": "python3"
  },
  "language_info": {
   "codemirror_mode": {
    "name": "ipython",
    "version": 3
   },
   "file_extension": ".py",
   "mimetype": "text/x-python",
   "name": "python",
   "nbconvert_exporter": "python",
   "pygments_lexer": "ipython3",
   "version": "3.9.7"
  }
 },
 "nbformat": 4,
 "nbformat_minor": 5
}
