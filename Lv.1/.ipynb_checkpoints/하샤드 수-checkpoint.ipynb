{
 "cells": [
  {
   "cell_type": "markdown",
   "id": "099fda73",
   "metadata": {},
   "source": [
    "# [연습문제]\n",
    "\n",
    "# 하샤드 수"
   ]
  },
  {
   "cell_type": "markdown",
   "id": "ec82432d",
   "metadata": {},
   "source": [
    "\n"
   ]
  },
  {
   "cell_type": "markdown",
   "id": "566bc919",
   "metadata": {},
   "source": [
    "양의 정수 x가 하샤드 수이려면 x의 자릿수의 합으로 x가 나누어져야 합니다. 예를 들어 18의 자릿수 합은 1+8=9이고, 18은 9로 나누어 떨어지므로 18은 하샤드 수입니다. 자연수 x를 입력받아 x가 하샤드 수인지 아닌지 검사하는 함수, solution을 완성해주세요."
   ]
  },
  {
   "cell_type": "markdown",
   "id": "5954e69d",
   "metadata": {},
   "source": [
    "\n"
   ]
  },
  {
   "cell_type": "markdown",
   "id": "14a101b9",
   "metadata": {},
   "source": [
    "< 제한 조건 >\n",
    "- x는 1 이상, 10000 이하인 정수입니다. "
   ]
  },
  {
   "cell_type": "markdown",
   "id": "0a7083b8",
   "metadata": {},
   "source": [
    "\n"
   ]
  },
  {
   "cell_type": "markdown",
   "id": "287bcc3a",
   "metadata": {},
   "source": [
    "[TIP]\n",
    "\n",
    "* map(적용할 함수, 순회 가능한 객체) : 순회 가능한 객체의 각 원소에 지정한 함수를 각각 적용"
   ]
  },
  {
   "cell_type": "markdown",
   "id": "8a15eebc",
   "metadata": {},
   "source": [
    "\n"
   ]
  },
  {
   "cell_type": "markdown",
   "id": "6deb671c",
   "metadata": {},
   "source": [
    "\n"
   ]
  },
  {
   "cell_type": "markdown",
   "id": "54ecc7f5",
   "metadata": {},
   "source": [
    "Solution 1"
   ]
  },
  {
   "cell_type": "code",
   "execution_count": 7,
   "id": "487e8ecf",
   "metadata": {},
   "outputs": [],
   "source": [
    "def solution(x):\n",
    "\n",
    "    s = 0\n",
    "    tmp = x\n",
    "    while tmp > 0 :\n",
    "        s += tmp % 10\n",
    "        tmp /= 10\n",
    "        \n",
    "    return True if x % s == 0 else False"
   ]
  },
  {
   "cell_type": "markdown",
   "id": "ba4e82e7",
   "metadata": {},
   "source": [
    "\n"
   ]
  },
  {
   "cell_type": "markdown",
   "id": "b1653049",
   "metadata": {},
   "source": [
    "Solution 2 - map() 활용"
   ]
  },
  {
   "cell_type": "code",
   "execution_count": 8,
   "id": "f2e6a140",
   "metadata": {},
   "outputs": [],
   "source": [
    "def solution(x):  \n",
    "    \n",
    "    return True if x % sum(map(int, str(x))) == 0 else False"
   ]
  },
  {
   "cell_type": "markdown",
   "id": "a2933a7f",
   "metadata": {},
   "source": [
    "\n"
   ]
  },
  {
   "cell_type": "markdown",
   "id": "034425fa",
   "metadata": {},
   "source": [
    "\n"
   ]
  },
  {
   "cell_type": "code",
   "execution_count": 9,
   "id": "67484214",
   "metadata": {},
   "outputs": [
    {
     "data": {
      "text/plain": [
       "True"
      ]
     },
     "execution_count": 9,
     "metadata": {},
     "output_type": "execute_result"
    }
   ],
   "source": [
    "solution(10)"
   ]
  }
 ],
 "metadata": {
  "kernelspec": {
   "display_name": "Python 3 (ipykernel)",
   "language": "python",
   "name": "python3"
  },
  "language_info": {
   "codemirror_mode": {
    "name": "ipython",
    "version": 3
   },
   "file_extension": ".py",
   "mimetype": "text/x-python",
   "name": "python",
   "nbconvert_exporter": "python",
   "pygments_lexer": "ipython3",
   "version": "3.9.7"
  }
 },
 "nbformat": 4,
 "nbformat_minor": 5
}
