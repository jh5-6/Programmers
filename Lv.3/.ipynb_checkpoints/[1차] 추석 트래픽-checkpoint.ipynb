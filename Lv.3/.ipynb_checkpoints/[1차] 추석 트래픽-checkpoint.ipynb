{
 "cells": [
  {
   "cell_type": "markdown",
   "id": "ee83b469",
   "metadata": {},
   "source": [
    "# [2018 KAKAO BLIND RECRUITMENT] \n",
    "\n",
    "# [1차] 추석 트래픽"
   ]
  },
  {
   "cell_type": "markdown",
   "id": "cd167d6c",
   "metadata": {},
   "source": [
    "\n"
   ]
  },
  {
   "cell_type": "markdown",
   "id": "cb606dac",
   "metadata": {},
   "source": [
    "\n"
   ]
  },
  {
   "cell_type": "markdown",
   "id": "826d8298",
   "metadata": {},
   "source": [
    "이번 추석에도 시스템 장애가 없는 명절을 보내고 싶은 어피치는 서버를 증설해야 할지 고민이다. 장애 대비용 서버 증설 여부를 결정하기 위해 작년 추석 기간인 9월 15일 로그 데이터를 분석한 후 초당 최대 처리량을 계산해보기로 했다. 초당 최대 처리량은 요청의 응답 완료 여부에 관계없이 임의 시간부터 1초(=1,000밀리초)간 처리하는 요청의 최대 개수를 의미한다."
   ]
  },
  {
   "cell_type": "markdown",
   "id": "40469f58",
   "metadata": {},
   "source": [
    "\n"
   ]
  },
  {
   "cell_type": "markdown",
   "id": "fba6402a",
   "metadata": {},
   "source": [
    "<입력 형식>\n",
    "- solution 함수에 전달되는 lines 배열은 N(1 ≦ N ≦ 2,000)개의 로그 문자열로 되어 있으며, 각 로그 문자열마다 요청에 대한 응답완료시간 S와 처리시간 T가 공백으로 구분되어 있다.\n",
    "- 응답완료시간 S는 작년 추석인 2016년 9월 15일만 포함하여 고정 길이 2016-09-15 hh:mm:ss.sss 형식으로 되어 있다.\n",
    "- 처리시간 T는 0.1s, 0.312s, 2s 와 같이 최대 소수점 셋째 자리까지 기록하며 뒤에는 초 단위를 의미하는 s로 끝난다.\n",
    "- 예를 들어, 로그 문자열 2016-09-15 03:10:33.020 0.011s은 \"2016년 9월 15일 오전 3시 10분 33.010초\"부터 \"2016년 9월 15일 오전 3시 10분 33.020초\"까지 \"0.011초\" 동안 처리된 요청을 의미한다. (처리시간은 시작시간과 끝시간을 포함)\n",
    "- 서버에는 타임아웃이 3초로 적용되어 있기 때문에 처리시간은 0.001 ≦ T ≦ 3.000이다.\n",
    "- lines 배열은 응답완료시간 S를 기준으로 오름차순 정렬되어 있다."
   ]
  },
  {
   "cell_type": "markdown",
   "id": "ba9fde73",
   "metadata": {},
   "source": [
    "\n"
   ]
  },
  {
   "cell_type": "markdown",
   "id": "fd3416a4",
   "metadata": {},
   "source": [
    "<출력 형식>\n",
    "- solution 함수에서는 로그 데이터 lines 배열에 대해 초당 최대 처리량을 리턴한다."
   ]
  },
  {
   "cell_type": "markdown",
   "id": "735995d8",
   "metadata": {},
   "source": [
    "\n"
   ]
  },
  {
   "attachments": {
    "image.png": {
     "image/png": "[encoded data removed]"
    }
   },
   "cell_type": "markdown",
   "id": "21680e8f",
   "metadata": {},
   "source": [
    "<예제>\n",
    "\n",
    "    입력: [\n",
    "    \"2016-09-15 20:59:57.421 0.351s\",\n",
    "    \"2016-09-15 20:59:58.233 1.181s\",\n",
    "    \"2016-09-15 20:59:58.299 0.8s\",\n",
    "    \"2016-09-15 20:59:58.688 1.041s\",\n",
    "    \"2016-09-15 20:59:59.591 1.412s\",\n",
    "    \"2016-09-15 21:00:00.464 1.466s\",\n",
    "    \"2016-09-15 21:00:00.741 1.581s\",\n",
    "    \"2016-09-15 21:00:00.748 2.31s\",\n",
    "    \"2016-09-15 21:00:00.966 0.381s\",\n",
    "    \"2016-09-15 21:00:02.066 2.62s\"\n",
    "    ]\n",
    "\n",
    "    출력: 7\n",
    "\n",
    "설명: 아래 타임라인 그림에서 빨간색으로 표시된 1초 각 구간의 처리량을 구해보면 (1)은 4개, (2)는 7개, (3)는 2개임을 알 수 있다. 따라서 초당 최대 처리량은 7이 되며, 동일한 최대 처리량을 갖는 1초 구간은 여러 개 존재할 수 있으므로 이 문제에서는 구간이 아닌 개수만 출력한다.\n",
    "\n",
    "![image.png](attachment:image.png)"
   ]
  },
  {
   "cell_type": "markdown",
   "id": "12ddac2f",
   "metadata": {},
   "source": [
    "\n"
   ]
  },
  {
   "cell_type": "markdown",
   "id": "6542cf18",
   "metadata": {},
   "source": [
    "\n"
   ]
  },
  {
   "cell_type": "markdown",
   "id": "b96515f8",
   "metadata": {},
   "source": [
    "[TIP]\n",
    "\n",
    "- 시간 : millisecond 단위로 변환\n",
    "\n",
    "- 처리 시간은 시작 시간과 끝 시간을 포함하므로 \n",
    "        \n",
    "        응답 시작 시간 = 응답 완료 시간 - 처리 시간 + 1\n",
    "        \n",
    "- 유효 범위 : 응답 완료 시간 - 응답 시간 + 1000(=1sec) \n",
    "        \n",
    "        유효 범위 내 처리되는 작업일 경우 count++\n",
    "        \n",
    "   \n",
    "- 유효 범위 내에 처리되는 작업이란?\n",
    "        \n",
    "    1. 현재 응답 완료 시간이 유효 범위 내에 있는 경우\n",
    "\n",
    "    2. 현재 처리가 유효 범위를 포함하는 경우 \n",
    "\n",
    "    3. 현재 응답 시작 시간이 유효 범위 내에 있는 경우 \n"
   ]
  },
  {
   "cell_type": "markdown",
   "id": "5aa75b41",
   "metadata": {},
   "source": [
    "\n"
   ]
  },
  {
   "cell_type": "markdown",
   "id": "182788cb",
   "metadata": {},
   "source": [
    "\n"
   ]
  },
  {
   "cell_type": "markdown",
   "id": "248aac04",
   "metadata": {},
   "source": [
    "Solution"
   ]
  },
  {
   "cell_type": "code",
   "execution_count": 56,
   "id": "76c72808",
   "metadata": {},
   "outputs": [],
   "source": [
    "def getMillisec(time):\n",
    "    \n",
    "    h, m, s = time.split(\":\")\n",
    "    h = int(h) * 60 * 60 * 1000\n",
    "    m = int(m) * 60 * 1000\n",
    "    s = float(s) * 1000\n",
    "    \n",
    "    return h+m+s\n",
    "\n",
    "def solution(lines):\n",
    "    \n",
    "    answer = 0\n",
    "    records = []\n",
    "\n",
    "    for l in lines:\n",
    "        \n",
    "        date, eTime, pTime = l.split(\" \")\n",
    "        pTime = float(pTime.rstrip(\"s\")) * 1000\n",
    "        end = getMillisec(eTime)\n",
    "        \n",
    "        # 유의 : 처리 시간은 시작 시간과 끝 시간을 포함\n",
    "        start = end - pTime + 1        \n",
    "        \n",
    "        records.append([start, end])\n",
    "        \n",
    "        \n",
    "    for start, end in records:\n",
    "        \n",
    "        cnt = 0    \n",
    "        for s, e in records:\n",
    "            # 조건 1 : 현재 응답 완료 시간이 유효 범위 내에 있는 경우\n",
    "            if e >= end and e < end + 1000:\n",
    "                cnt += 1 \n",
    "                \n",
    "            # 조건 2 : 현재 처리가 유효 범위를 포함하는 경우\n",
    "            elif s <= end and e >= end + 1000 :\n",
    "                cnt += 1\n",
    "                \n",
    "            # 조건 3 : 현재 응답 시작 시간이 유효 범위 내에 있는 경우\n",
    "            elif s >= end and s < end + 1000:\n",
    "                cnt += 1 \n",
    "                \n",
    "        answer = max(answer, cnt)\n",
    "\n",
    "    return answer"
   ]
  },
  {
   "cell_type": "markdown",
   "id": "97d136c7",
   "metadata": {},
   "source": [
    "\n"
   ]
  },
  {
   "cell_type": "markdown",
   "id": "f03e0b0d",
   "metadata": {},
   "source": [
    "\n"
   ]
  },
  {
   "cell_type": "code",
   "execution_count": 52,
   "id": "f6a90bd8",
   "metadata": {},
   "outputs": [
    {
     "data": {
      "text/plain": [
       "3"
      ]
     },
     "execution_count": 52,
     "metadata": {},
     "output_type": "execute_result"
    }
   ],
   "source": [
    "solution(\t[\"2016-09-15 01:00:04.002 2.0s\", \"2016-09-15 01:00:07.000 2s\"])"
   ]
  }
 ],
 "metadata": {
  "kernelspec": {
   "display_name": "Python 3 (ipykernel)",
   "language": "python",
   "name": "python3"
  },
  "language_info": {
   "codemirror_mode": {
    "name": "ipython",
    "version": 3
   },
   "file_extension": ".py",
   "mimetype": "text/x-python",
   "name": "python",
   "nbconvert_exporter": "python",
   "pygments_lexer": "ipython3",
   "version": "3.9.7"
  }
 },
 "nbformat": 4,
 "nbformat_minor": 5
}
