{
 "cells": [
  {
   "cell_type": "markdown",
   "id": "2303a65d",
   "metadata": {},
   "source": [
    "# [2021 KAKAO BLIND RECRUITMENT] \n",
    "\n",
    "# 순위 검색"
   ]
  },
  {
   "cell_type": "markdown",
   "id": "24f00b7e",
   "metadata": {},
   "source": [
    "\n"
   ]
  },
  {
   "cell_type": "markdown",
   "id": "184d6d36",
   "metadata": {},
   "source": [
    "\n"
   ]
  },
  {
   "cell_type": "markdown",
   "id": "f057fe9f",
   "metadata": {},
   "source": [
    "[본 문제는 정확성과 효율성 테스트 각각 점수가 있는 문제입니다.]\n",
    "\n",
    "\n",
    "카카오는 하반기 경력 개발자 공개채용을 진행 중에 있으며 현재 지원서 접수와 코딩테스트가 종료되었습니다. 이번 채용에서 지원자는 지원서 작성 시 아래와 같이 4가지 항목을 반드시 선택하도록 하였습니다.\n",
    "\n",
    "\n",
    "    - 코딩테스트 참여 개발언어 항목에 cpp, java, python 중 하나를 선택해야 합니다.\n",
    "    - 지원 직군 항목에 backend와 frontend 중 하나를 선택해야 합니다.\n",
    "    - 지원 경력구분 항목에 junior와 senior 중 하나를 선택해야 합니다.\n",
    "    - 선호하는 소울푸드로 chicken과 pizza 중 하나를 선택해야 합니다.\n",
    "\n",
    "\n",
    "인재영입팀에 근무하고 있는 니니즈는 코딩테스트 결과를 분석하여 채용에 참여한 개발팀들에 제공하기 위해 지원자들의 지원 조건을 선택하면 해당 조건에 맞는 지원자가 몇 명인 지 쉽게 알 수 있는 도구를 만들고 있습니다.\n",
    "예를 들어, 개발팀에서 궁금해하는 문의사항은 다음과 같은 형태가 될 수 있습니다.\n",
    "코딩테스트에 java로 참여했으며, backend 직군을 선택했고, junior 경력이면서, 소울푸드로 pizza를 선택한 사람 중 코딩테스트 점수를 50점 이상 받은 지원자는 몇 명인가?\n",
    "\n",
    "물론 이 외에도 각 개발팀의 상황에 따라 아래와 같이 다양한 형태의 문의가 있을 수 있습니다.\n",
    "\n",
    "    - 코딩테스트에 python으로 참여했으며, frontend 직군을 선택했고, senior 경력이면서, 소울푸드로 chicken을 선택한 사람 중 코딩테스트 점수를 100점 이상 받은 사람은 모두 몇 명인가?\n",
    "    - 코딩테스트에 cpp로 참여했으며, senior 경력이면서, 소울푸드로 pizza를 선택한 사람 중 코딩테스트 점수를 100점 이상 받은 사람은 모두 몇 명인가?\n",
    "    - backend 직군을 선택했고, senior 경력이면서 코딩테스트 점수를 200점 이상 받은 사람은 모두 몇 명인가?\n",
    "    - 소울푸드로 chicken을 선택한 사람 중 코딩테스트 점수를 250점 이상 받은 사람은 모두 몇 명인가?\n",
    "    - 코딩테스트 점수를 150점 이상 받은 사람은 모두 몇 명인가?\n",
    "    \n",
    "즉, 개발팀에서 궁금해하는 내용은 다음과 같은 형태를 갖습니다.\n",
    "\n",
    "\n",
    "* [조건]을 만족하는 사람 중 코딩테스트 점수를 X점 이상 받은 사람은 모두 몇 명인가?\n"
   ]
  },
  {
   "cell_type": "markdown",
   "id": "ef8bb197",
   "metadata": {},
   "source": [
    "\n"
   ]
  },
  {
   "cell_type": "markdown",
   "id": "1cd40e93",
   "metadata": {},
   "source": [
    "[문제]\n",
    "\n",
    "지원자가 지원서에 입력한 4가지의 정보와 획득한 코딩테스트 점수를 하나의 문자열로 구성한 값의 배열 info, 개발팀이 궁금해하는 문의조건이 문자열 형태로 담긴 배열 query가 매개변수로 주어질 때,\n",
    "각 문의조건에 해당하는 사람들의 숫자를 순서대로 배열에 담아 return 하도록 solution 함수를 완성해 주세요.\n",
    "\n",
    "[제한사항]\n",
    "- info 배열의 크기는 1 이상 50,000 이하입니다.\n",
    "\n",
    "- info 배열 각 원소의 값은 지원자가 지원서에 입력한 4가지 값과 코딩테스트 점수를 합친 \"개발언어 직군 경력 소울푸드 점수\" 형식입니다.\n",
    "    - 개발언어는 cpp, java, python 중 하나입니다.\n",
    "    - 직군은 backend, frontend 중 하나입니다.\n",
    "    - 경력은 junior, senior 중 하나입니다.\n",
    "    - 소울푸드는 chicken, pizza 중 하나입니다.\n",
    "    - 점수는 코딩테스트 점수를 의미하며, 1 이상 100,000 이하인 자연수입니다.\n",
    "    - 각 단어는 공백문자(스페이스 바) 하나로 구분되어 있습니다.\n",
    "    \n",
    "- query 배열의 크기는 1 이상 100,000 이하입니다.\n",
    "\n",
    "- query의 각 문자열은 \"[조건] X\" 형식입니다.\n",
    "    - [조건]은 \"개발언어 and 직군 and 경력 and 소울푸드\" 형식의 문자열입니다.\n",
    "    - 언어는 cpp, java, python, - 중 하나입니다.\n",
    "    - 직군은 backend, frontend, - 중 하나입니다.\n",
    "    - 경력은 junior, senior, - 중 하나입니다.\n",
    "    - 소울푸드는 chicken, pizza, - 중 하나입니다.\n",
    "    - '-' 표시는 해당 조건을 고려하지 않겠다는 의미입니다.\n",
    "    - X는 코딩테스트 점수를 의미하며 조건을 만족하는 사람 중 X점 이상 받은 사람은 모두 몇 명인 지를 의미합니다.\n",
    "     - 각 단어는 공백문자(스페이스 바) 하나로 구분되어 있습니다.\n",
    "    - 예를 들면, \"cpp and - and senior and pizza 500\"은 \"cpp로 코딩테스트를 봤으며, 경력은 senior 이면서 소울푸드로 pizza를 선택한 지원자 중 코딩테스트 점수를 500점 이상 받은 사람은 모두 몇 명인가?\"를 의미합니다.\n"
   ]
  },
  {
   "cell_type": "markdown",
   "id": "6f86eba6",
   "metadata": {},
   "source": [
    "\n"
   ]
  },
  {
   "cell_type": "markdown",
   "id": "a29e9684",
   "metadata": {},
   "source": [
    "[참고] \n",
    " * https://tech.kakao.com/2021/01/25/2021-kakao-recruitment-round-1/"
   ]
  },
  {
   "cell_type": "markdown",
   "id": "d6472b91",
   "metadata": {},
   "source": [
    "\n"
   ]
  },
  {
   "cell_type": "markdown",
   "id": "12a93dba",
   "metadata": {},
   "source": [
    "# bisect"
   ]
  },
  {
   "cell_type": "markdown",
   "id": "f7ea3585",
   "metadata": {},
   "source": [
    "* 이진 탐색 알고리즘을 구현한 모듈로 정렬된 배열에서 특정 원소 찾을때 사용 \n",
    "*  O(logN)에 동작\n",
    "\n",
    "1. bisect_left(a, x)\n",
    ": 정렬된 순서를 유지하면서 리스트 a에 데이터 x 삽입할 가장 왼쪽 인덱스 찾기\n",
    "\n",
    "2. bisect_right(a, x)\n",
    ": 정렬된 순서를 유지하면서 리스트 a에 데이터 x 삽입할 가장 오른쪽 인덱스 찾기"
   ]
  },
  {
   "cell_type": "markdown",
   "id": "90b9d900",
   "metadata": {},
   "source": [
    "\n"
   ]
  },
  {
   "cell_type": "markdown",
   "id": "bdbca653",
   "metadata": {},
   "source": [
    "Solution "
   ]
  },
  {
   "cell_type": "code",
   "execution_count": 95,
   "id": "14bae825",
   "metadata": {},
   "outputs": [],
   "source": [
    "from collections import defaultdict \n",
    "from itertools import combinations\n",
    "import bisect\n",
    "\n",
    "def solution(infos, query):\n",
    "    answer = []\n",
    "    \n",
    "    # info 정보 정리\n",
    "    info_dict = defaultdict(list)\n",
    "    for info in infos:\n",
    "        tmp = info.split(\" \")\n",
    "        key = tmp[:-1]\n",
    "        score = int(tmp[-1])\n",
    "        \n",
    "        for i in range(5):\n",
    "            for c in combinations(key, i):\n",
    "                info_key = ''.join(c)\n",
    "                info_dict[info_key].append(score)\n",
    "                \n",
    "    #bisect_left 사용하기 위해 오름차순 정렬          \n",
    "    for key in info_dict.keys():\n",
    "        info_dict[key].sort()\n",
    "    \n",
    "    # query 정보 정리 \n",
    "    for q in query :\n",
    "        tmp = q.split()\n",
    "        q_key = tmp[:-1]\n",
    "        q_score = tmp[-1]\n",
    "        \n",
    "        for i in range(3):\n",
    "            q_key.remove(\"and\")\n",
    "        while '-' in q_key:\n",
    "            q_key.remove(\"-\")          \n",
    "        q_key = ''.join(q_key)\n",
    "\n",
    "        if q_key in info_dict:  \n",
    "            idx = bisect.bisect_left(info_dict[q_key], int(q_score))\n",
    "            answer.append(len(info_dict[q_key]) - idx)\n",
    "        else:\n",
    "            answer.append(0)\n",
    "\n",
    "    return answer"
   ]
  },
  {
   "cell_type": "markdown",
   "id": "1b03da78",
   "metadata": {},
   "source": [
    "\n"
   ]
  },
  {
   "cell_type": "code",
   "execution_count": 94,
   "id": "d3b083a0",
   "metadata": {},
   "outputs": [
    {
     "data": {
      "text/plain": [
       "[1, 1, 1, 1, 2, 4]"
      ]
     },
     "execution_count": 94,
     "metadata": {},
     "output_type": "execute_result"
    }
   ],
   "source": [
    "solution([\"java backend junior pizza 150\",\"python frontend senior chicken 210\",\"python frontend senior chicken 150\",\"cpp backend senior pizza 260\",\"java backend junior chicken 80\",\"python backend senior chicken 50\"], [\"java and backend and junior and pizza 100\",\"python and frontend and senior and chicken 200\",\"cpp and - and senior and pizza 250\",\"- and backend and senior and - 150\",\"- and - and - and chicken 100\",\"- and - and - and - 150\"])"
   ]
  }
 ],
 "metadata": {
  "kernelspec": {
   "display_name": "Python 3 (ipykernel)",
   "language": "python",
   "name": "python3"
  },
  "language_info": {
   "codemirror_mode": {
    "name": "ipython",
    "version": 3
   },
   "file_extension": ".py",
   "mimetype": "text/x-python",
   "name": "python",
   "nbconvert_exporter": "python",
   "pygments_lexer": "ipython3",
   "version": "3.9.7"
  }
 },
 "nbformat": 4,
 "nbformat_minor": 5
}
