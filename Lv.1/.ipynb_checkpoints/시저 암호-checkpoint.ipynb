{
 "cells": [
  {
   "cell_type": "markdown",
   "id": "7a33cb05",
   "metadata": {},
   "source": [
    "# [연습문제]\n",
    "\n",
    "# 시저 암호 "
   ]
  },
  {
   "cell_type": "markdown",
   "id": "298eee03",
   "metadata": {},
   "source": [
    "\n"
   ]
  },
  {
   "cell_type": "markdown",
   "id": "5997756a",
   "metadata": {},
   "source": [
    "어떤 문장의 각 알파벳을 일정한 거리만큼 밀어서 다른 알파벳으로 바꾸는 암호화 방식을 시저 암호라고 합니다. 예를 들어 \"AB\"는 1만큼 밀면 \"BC\"가 되고, 3만큼 밀면 \"DE\"가 됩니다. \"z\"는 1만큼 밀면 \"a\"가 됩니다. 문자열 s와 거리 n을 입력받아 s를 n만큼 민 암호문을 만드는 함수, solution을 완성해 보세요."
   ]
  },
  {
   "cell_type": "markdown",
   "id": "2d97efcc",
   "metadata": {},
   "source": [
    "\n"
   ]
  },
  {
   "cell_type": "markdown",
   "id": "663844a1",
   "metadata": {},
   "source": [
    "<제한 사항>\n",
    "\n",
    "- 공백은 아무리 밀어도 공백입니다.\n",
    "- s는 알파벳 소문자, 대문자, 공백으로만 이루어져 있습니다.\n",
    "- s의 길이는 8000이하입니다.\n",
    "- n은 1 이상, 25이하인 자연수입니다."
   ]
  },
  {
   "cell_type": "markdown",
   "id": "e94ce4ba",
   "metadata": {},
   "source": [
    "\n"
   ]
  },
  {
   "cell_type": "markdown",
   "id": "92f4c2a6",
   "metadata": {},
   "source": [
    "[TIP]\n",
    "\n",
    "- 아스키코드 변환하는 함수 \n",
    "    1. ord() : 문자를 인자로 받고 해당 문자에 해당하는 유니코드 정수를 반환 -> ord('a') => 97\n",
    "    2. chr() : 정수를 인자로 받고 해당 정수에 해당하는 유니코드 문자를 반환 -> chr(97) => 'a'\n",
    "\n",
    "- isupper(), islower() "
   ]
  },
  {
   "cell_type": "markdown",
   "id": "ea6f1266",
   "metadata": {},
   "source": [
    "\n"
   ]
  },
  {
   "cell_type": "markdown",
   "id": "fdcedc75",
   "metadata": {},
   "source": [
    "\n"
   ]
  },
  {
   "cell_type": "markdown",
   "id": "cbf80447",
   "metadata": {},
   "source": [
    "Solution 1"
   ]
  },
  {
   "cell_type": "code",
   "execution_count": 39,
   "id": "710522b0",
   "metadata": {},
   "outputs": [],
   "source": [
    "def solution(s, n):\n",
    "    answer = ''\n",
    "    \n",
    "    for c in s:\n",
    "        if c == ' ':\n",
    "            answer += \" \"\n",
    "            continue \n",
    "            \n",
    "        num = ord(c)\n",
    "        s_num = num + n\n",
    "\n",
    "        if num <= 90:\n",
    "            if s_num > 90 :\n",
    "                s_num = 65 + (s_num - 90) - 1\n",
    "        else :\n",
    "            if s_num > 122 :\n",
    "                s_num = 97 + (s_num - 122) - 1\n",
    "\n",
    "        answer += chr(s_num)\n",
    "    return answer"
   ]
  },
  {
   "cell_type": "markdown",
   "id": "8e8f7dc4",
   "metadata": {},
   "source": [
    "\n"
   ]
  },
  {
   "cell_type": "markdown",
   "id": "99a2db9e",
   "metadata": {},
   "source": [
    "Solution 2"
   ]
  },
  {
   "cell_type": "code",
   "execution_count": 41,
   "id": "ca1e4b1a",
   "metadata": {},
   "outputs": [],
   "source": [
    "def solution(s, n):\n",
    "    answer = ''\n",
    "    \n",
    "    for c in s:\n",
    "        if c.isupper() :\n",
    "            answer += chr((ord(c) - ord('A') + n) % 26 + ord('A'))\n",
    "        elif c.islower():\n",
    "            answer += chr((ord(c) - ord('a') + n) % 26 + ord('a'))\n",
    "        else :\n",
    "            answer += \" \"\n",
    "\n",
    "    return answer"
   ]
  },
  {
   "cell_type": "markdown",
   "id": "a5f99a7c",
   "metadata": {},
   "source": [
    "\n"
   ]
  },
  {
   "cell_type": "markdown",
   "id": "08a2cbff",
   "metadata": {},
   "source": [
    "\n"
   ]
  },
  {
   "cell_type": "code",
   "execution_count": 42,
   "id": "5c740991",
   "metadata": {},
   "outputs": [
    {
     "data": {
      "text/plain": [
       "'e F d'"
      ]
     },
     "execution_count": 42,
     "metadata": {},
     "output_type": "execute_result"
    }
   ],
   "source": [
    "solution(\"a B z\", 4)"
   ]
  }
 ],
 "metadata": {
  "kernelspec": {
   "display_name": "Python 3 (ipykernel)",
   "language": "python",
   "name": "python3"
  },
  "language_info": {
   "codemirror_mode": {
    "name": "ipython",
    "version": 3
   },
   "file_extension": ".py",
   "mimetype": "text/x-python",
   "name": "python",
   "nbconvert_exporter": "python",
   "pygments_lexer": "ipython3",
   "version": "3.9.7"
  }
 },
 "nbformat": 4,
 "nbformat_minor": 5
}
