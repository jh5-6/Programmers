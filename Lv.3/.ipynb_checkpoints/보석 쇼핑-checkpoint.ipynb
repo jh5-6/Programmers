{
 "cells": [
  {
   "cell_type": "markdown",
   "id": "f6dd0dbb",
   "metadata": {},
   "source": [
    "# 2020 카카오 인턴십\n",
    "\n",
    "\n",
    "# [카카오 인턴] 보석 쇼핑 "
   ]
  },
  {
   "cell_type": "markdown",
   "id": "d8cb157d",
   "metadata": {},
   "source": [
    "\n"
   ]
  },
  {
   "cell_type": "markdown",
   "id": "dd3cce83",
   "metadata": {},
   "source": [
    "\n"
   ]
  },
  {
   "cell_type": "markdown",
   "id": "9b0cef45",
   "metadata": {},
   "source": [
    "[본 문제는 정확성과 효율성 테스트 각각 점수가 있는 문제입니다.]\n",
    "\n",
    "개발자 출신으로 세계 최고의 갑부가 된 어피치는 스트레스를 받을 때면 이를 풀기 위해 오프라인 매장에 쇼핑을 하러 가곤 합니다.\n",
    "어피치는 쇼핑을 할 때면 매장 진열대의 특정 범위의 물건들을 모두 싹쓸이 구매하는 습관이 있습니다.\n",
    "어느 날 스트레스를 풀기 위해 보석 매장에 쇼핑을 하러 간 어피치는 이전처럼 진열대의 특정 범위의 보석을 모두 구매하되 특별히 아래 목적을 달성하고 싶었습니다.\n",
    "진열된 모든 종류의 보석을 적어도 1개 이상 포함하는 가장 짧은 구간을 찾아서 구매\n",
    "\n",
    "예를 들어 아래 진열대는 4종류의 보석(RUBY, DIA, EMERALD, SAPPHIRE) 8개가 진열된 예시입니다.\n",
    "\n",
    "    진열대 번호\t1\t 2\t    3\t   4\t 5\t   6 \t      7\t       8\n",
    "    보석 이름\tDIA\t  RUBY\t RUBY   DIA\t  DIA   EMERALD  SAPPHIRE   DIA\n",
    "    \n",
    "진열대의 3번부터 7번까지 5개의 보석을 구매하면 모든 종류의 보석을 적어도 하나 이상씩 포함하게 됩니다.\n",
    "\n",
    "진열대의 3, 4, 6, 7번의 보석만 구매하는 것은 중간에 특정 구간(5번)이 빠지게 되므로 어피치의 쇼핑 습관에 맞지 않습니다.\n",
    "\n",
    "진열대 번호 순서대로 보석들의 이름이 저장된 배열 gems가 매개변수로 주어집니다. 이때 모든 보석을 하나 이상 포함하는 가장 짧은 구간을 찾아서 return 하도록 solution 함수를 완성해주세요.\n",
    "가장 짧은 구간의 시작 진열대 번호와 끝 진열대 번호를 차례대로 배열에 담아서 return 하도록 하며, 만약 가장 짧은 구간이 여러 개라면 시작 진열대 번호가 가장 작은 구간을 return 합니다."
   ]
  },
  {
   "cell_type": "markdown",
   "id": "10112d52",
   "metadata": {},
   "source": [
    "\n"
   ]
  },
  {
   "cell_type": "markdown",
   "id": "87c6ae7d",
   "metadata": {},
   "source": [
    "<제한사항>\n",
    "- gems 배열의 크기는 1 이상 100,000 이하입니다.\n",
    "    - gems 배열의 각 원소는 진열대에 나열된 보석을 나타냅니다.\n",
    "    - gems 배열에는 1번 진열대부터 진열대 번호 순서대로 보석이름이 차례대로 저장되어 있습니다.\n",
    "    - gems 배열의 각 원소는 길이가 1 이상 10 이하인 알파벳 대문자로만 구성된 문자열입니다."
   ]
  },
  {
   "cell_type": "markdown",
   "id": "e0b3da5c",
   "metadata": {},
   "source": [
    "\n"
   ]
  },
  {
   "cell_type": "markdown",
   "id": "17958e1e",
   "metadata": {},
   "source": [
    "\n"
   ]
  },
  {
   "cell_type": "markdown",
   "id": "b6788711",
   "metadata": {},
   "source": [
    "[문제 해설]\n",
    "\n",
    "1. 맵 자료구조에서, ‘map[보석 이름] = 빈도수’로 정의를 합니다.\n",
    "\n",
    "2. 왼쪽 포인터 l과 오른쪽 포인터 r을 모두 1번 진열대에 위치시킵니다.\n",
    "\n",
    "3. 양 포인터 중, 둘 중 하나라도 진열대의 범위를 벗어나면 알고리즘을 종료합니다.\n",
    "\n",
    "4. 양 포인터가 가리키는 범위 안에 포함된 보석 종류의 개수를 세어 봅니다.(map의 사이즈를 체크합니다)\n",
    "\n",
    "5. \n",
    "    5-1. 범위 안에 보석 종류가 전체 보석 종류와 일치하면 더 좋은 답인지 체크한 후 l를 증가시킵니다. 그리고 2로 갑니다.   \n",
    "    5-2. 범위 안에 보석 종류가 전체 보석 종류보다 작다면 r를 증가시킵니다. 그리고 3으로 갑니다.\n",
    "    \n",
    "즉, 왼쪽을 가리키는 포인터 l과 오른쪽을 가리키는 포인터 r을 이용하여 보석의 종류가 모자라면 r을 증가시키고, 보석의 종류가 충분하면 l을 증가시키는 과정을 반복하면서, 정답을 갱신시켜나갑니다. 이때 l을 증가시키기 이전, map자료구조에서 l번 진열대에 있던 보석의 빈도수를 감소시켜주어야 하며 특히 빈도수가 1에서 0이 될 때에는 map에서 완전히 제거하여야 합니다. r을 증가시킬 때는 map자료구조에서 증가된 r번 진열대에 있는 보석의 빈도수를 증가시켜줍니다.\n",
    "\n",
    "출처 : https://tech.kakao.com/2020/07/01/2020-internship-test/"
   ]
  },
  {
   "cell_type": "markdown",
   "id": "edf8f716",
   "metadata": {},
   "source": [
    "\n"
   ]
  },
  {
   "cell_type": "markdown",
   "id": "dfd436ec",
   "metadata": {},
   "source": [
    "\n"
   ]
  },
  {
   "cell_type": "markdown",
   "id": "5defdfbc",
   "metadata": {},
   "source": [
    "[효율성 테스트 통과 X] "
   ]
  },
  {
   "cell_type": "code",
   "execution_count": 1,
   "id": "b79fe5ed",
   "metadata": {},
   "outputs": [],
   "source": [
    "def solution(gems):\n",
    "    \n",
    "    answer = [1, len(gems)]\n",
    "    g_type = set(gems)\n",
    "    \n",
    "    for i in range(len(gems) - len(g_type) + 1):\n",
    "        tmp = set([gems[i]])\n",
    "        \n",
    "        for j in range(i, len(gems)):\n",
    "            tmp.add(gems[j])\n",
    "            \n",
    "            if tmp == g_type:\n",
    "                if answer[1] - answer[0] > j - i:\n",
    "                    answer = [i + 1, j + 1]\n",
    "                break\n",
    "                \n",
    "    return answer"
   ]
  },
  {
   "cell_type": "markdown",
   "id": "a4936b3c",
   "metadata": {},
   "source": [
    "\n"
   ]
  },
  {
   "cell_type": "markdown",
   "id": "caaa5462",
   "metadata": {},
   "source": [
    "\n"
   ]
  },
  {
   "cell_type": "markdown",
   "id": "e845a3b5",
   "metadata": {},
   "source": [
    "Solution "
   ]
  },
  {
   "cell_type": "code",
   "execution_count": 9,
   "id": "ed92b6ac",
   "metadata": {},
   "outputs": [],
   "source": [
    "def solution(gems):\n",
    "    \n",
    "    n = len(gems)\n",
    "    g_type = len(set(gems))\n",
    "    answer = [0, n-1]\n",
    "    g_dict = {gems[0]:1}\n",
    "    s, e = 0, 0 \n",
    "    \n",
    "    while s < n and e < n :\n",
    "        \n",
    "        # 보석의 종류가 부족한 경우\n",
    "        if len(g_dict) < g_type :\n",
    "            e += 1 \n",
    "            if e == n :\n",
    "                break\n",
    "            g_dict[gems[e]] = g_dict.get(gems[e], 0) + 1\n",
    "            \n",
    "        #보석의 모든 종류를 구매한 경우         \n",
    "        else :\n",
    "            if answer[1] - answer[0] > e - s :\n",
    "                answer = [s, e]         \n",
    "                \n",
    "            if g_dict[gems[s]] == 1:\n",
    "                del g_dict[gems[s]]\n",
    "            else :\n",
    "                g_dict[gems[s]] -= 1\n",
    "            \n",
    "            s += 1\n",
    "            \n",
    "    answer[0] += 1 \n",
    "    answer[1] += 1\n",
    "            \n",
    "    return answer"
   ]
  },
  {
   "cell_type": "markdown",
   "id": "5d769c00",
   "metadata": {},
   "source": [
    "\n"
   ]
  },
  {
   "cell_type": "markdown",
   "id": "84e3d3cc",
   "metadata": {},
   "source": [
    "\n"
   ]
  },
  {
   "cell_type": "code",
   "execution_count": 10,
   "id": "3dd71481",
   "metadata": {},
   "outputs": [
    {
     "data": {
      "text/plain": [
       "[3, 7]"
      ]
     },
     "execution_count": 10,
     "metadata": {},
     "output_type": "execute_result"
    }
   ],
   "source": [
    "solution([\"DIA\", \"RUBY\", \"RUBY\", \"DIA\", \"DIA\", \"EMERALD\", \"SAPPHIRE\", \"DIA\"])"
   ]
  }
 ],
 "metadata": {
  "kernelspec": {
   "display_name": "Python 3 (ipykernel)",
   "language": "python",
   "name": "python3"
  },
  "language_info": {
   "codemirror_mode": {
    "name": "ipython",
    "version": 3
   },
   "file_extension": ".py",
   "mimetype": "text/x-python",
   "name": "python",
   "nbconvert_exporter": "python",
   "pygments_lexer": "ipython3",
   "version": "3.9.7"
  }
 },
 "nbformat": 4,
 "nbformat_minor": 5
}
