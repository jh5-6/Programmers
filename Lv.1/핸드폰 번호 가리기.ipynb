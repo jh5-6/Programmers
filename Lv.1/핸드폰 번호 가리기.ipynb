{
 "cells": [
  {
   "cell_type": "markdown",
   "id": "e6658333",
   "metadata": {},
   "source": [
    "# [연습문제]\n",
    "\n",
    "# 핸드폰 번호 가리기"
   ]
  },
  {
   "cell_type": "markdown",
   "id": "0da77160",
   "metadata": {},
   "source": [
    "\n"
   ]
  },
  {
   "cell_type": "markdown",
   "id": "65f21ae8",
   "metadata": {},
   "source": [
    "프로그래머스 모바일은 개인정보 보호를 위해 고지서를 보낼 때 고객들의 전화번호의 일부를 가립니다.\n",
    "전화번호가 문자열 phone_number로 주어졌을 때, 전화번호의 뒷 4자리를 제외한 나머지 숫자를 전부 *으로 가린 문자열을 리턴하는 함수, solution을 완성해주세요."
   ]
  },
  {
   "cell_type": "markdown",
   "id": "3a4d237b",
   "metadata": {},
   "source": [
    "\n"
   ]
  },
  {
   "cell_type": "markdown",
   "id": "f8af36b6",
   "metadata": {},
   "source": [
    "< 제한 조건 >\n",
    "- phone_number는 길이 4 이상, 20이하인 문자열입니다."
   ]
  },
  {
   "cell_type": "markdown",
   "id": "f32f488b",
   "metadata": {},
   "source": [
    "\n"
   ]
  },
  {
   "cell_type": "markdown",
   "id": "19712530",
   "metadata": {},
   "source": [
    "\n"
   ]
  },
  {
   "cell_type": "markdown",
   "id": "187ae476",
   "metadata": {},
   "source": [
    "Solution 1"
   ]
  },
  {
   "cell_type": "code",
   "execution_count": 10,
   "id": "73c55344",
   "metadata": {},
   "outputs": [],
   "source": [
    "def solution(phone_number):\n",
    "    \n",
    "    list_star = ['*' for i in range(len(phone_number) - 4)]\n",
    "    list_num = [phone_number[i] for i in range(len(phone_number)) if i > len(phone_number) - 5]\n",
    "\n",
    "    return ''.join(list_star + list_num)"
   ]
  },
  {
   "cell_type": "markdown",
   "id": "563e0f7d",
   "metadata": {},
   "source": [
    "\n"
   ]
  },
  {
   "cell_type": "markdown",
   "id": "28bd957e",
   "metadata": {},
   "source": [
    "Solution 2 - 문자열 곱셈"
   ]
  },
  {
   "cell_type": "code",
   "execution_count": 8,
   "id": "792c344a",
   "metadata": {},
   "outputs": [],
   "source": [
    "def solution(phone_number):\n",
    "    \n",
    "    answer = '*'*(len(phone_number) - 4) + phone_number[-4:]\n",
    "    \n",
    "    return answer"
   ]
  },
  {
   "cell_type": "markdown",
   "id": "cc410064",
   "metadata": {},
   "source": [
    "\n"
   ]
  },
  {
   "cell_type": "markdown",
   "id": "5aa20e0b",
   "metadata": {},
   "source": [
    "\n"
   ]
  },
  {
   "cell_type": "code",
   "execution_count": 9,
   "id": "cce62e77",
   "metadata": {},
   "outputs": [
    {
     "data": {
      "text/plain": [
       "'*******4444'"
      ]
     },
     "execution_count": 9,
     "metadata": {},
     "output_type": "execute_result"
    }
   ],
   "source": [
    "solution(\"01033334444\")"
   ]
  }
 ],
 "metadata": {
  "kernelspec": {
   "display_name": "Python 3 (ipykernel)",
   "language": "python",
   "name": "python3"
  },
  "language_info": {
   "codemirror_mode": {
    "name": "ipython",
    "version": 3
   },
   "file_extension": ".py",
   "mimetype": "text/x-python",
   "name": "python",
   "nbconvert_exporter": "python",
   "pygments_lexer": "ipython3",
   "version": "3.9.7"
  }
 },
 "nbformat": 4,
 "nbformat_minor": 5
}
