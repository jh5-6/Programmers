{
 "cells": [
  {
   "cell_type": "markdown",
   "id": "c7df838e",
   "metadata": {},
   "source": [
    "# [월간 코드 챌린지 시즌1]\n",
    "\n",
    "# 두 개 뽑아서 더하기"
   ]
  },
  {
   "cell_type": "markdown",
   "id": "9a2a0a6d",
   "metadata": {},
   "source": [
    "\n"
   ]
  },
  {
   "cell_type": "markdown",
   "id": "5b336e9b",
   "metadata": {},
   "source": [
    "정수 배열 numbers가 주어집니다. numbers에서 서로 다른 인덱스에 있는 두 개의 수를 뽑아 더해서 만들 수 있는 모든 수를 배열에 오름차순으로 담아 return 하도록 solution 함수를 완성해주세요."
   ]
  },
  {
   "cell_type": "markdown",
   "id": "c927d9d1",
   "metadata": {},
   "source": [
    "\n"
   ]
  },
  {
   "cell_type": "markdown",
   "id": "cc1aef6f",
   "metadata": {},
   "source": [
    "< 제한사항 >\n",
    "- numbers의 길이는 2 이상 100 이하입니다.\n",
    "    -numbers의 모든 수는 0 이상 100 이하입니다."
   ]
  },
  {
   "cell_type": "markdown",
   "id": "49376262",
   "metadata": {},
   "source": [
    "\n"
   ]
  },
  {
   "cell_type": "markdown",
   "id": "fa235483",
   "metadata": {},
   "source": [
    "\n"
   ]
  },
  {
   "cell_type": "markdown",
   "id": "5d9a902c",
   "metadata": {},
   "source": [
    "Solution 1"
   ]
  },
  {
   "cell_type": "code",
   "execution_count": 1,
   "id": "069700f0",
   "metadata": {},
   "outputs": [],
   "source": [
    "def solution(numbers):\n",
    "    answer = []\n",
    "    \n",
    "    for i in range(len(numbers) - 1):\n",
    "        for j in range(i + 1, len(numbers)):\n",
    "            if numbers[i] + numbers[j] not in answer:\n",
    "                answer.append(numbers[i] + numbers[j])\n",
    "\n",
    "    return sorted(answer)"
   ]
  },
  {
   "cell_type": "markdown",
   "id": "373ac32f",
   "metadata": {},
   "source": [
    "\n"
   ]
  },
  {
   "cell_type": "markdown",
   "id": "276ae2c0",
   "metadata": {},
   "source": [
    "Solution 2 - combinations "
   ]
  },
  {
   "cell_type": "code",
   "execution_count": 2,
   "id": "a324f908",
   "metadata": {},
   "outputs": [],
   "source": [
    "from itertools import combinations\n",
    "\n",
    "def solution(numbers):\n",
    "    answer = []\n",
    "    combi = combinations(numbers, 2)\n",
    "    \n",
    "    for a, b in combi:\n",
    "        answer.append(a+b)\n",
    "        \n",
    "    answer = list(set(answer))\n",
    "    answer.sort()\n",
    "    \n",
    "    return answer"
   ]
  },
  {
   "cell_type": "markdown",
   "id": "dde14bb6",
   "metadata": {},
   "source": [
    "\n"
   ]
  },
  {
   "cell_type": "markdown",
   "id": "c7924f4f",
   "metadata": {},
   "source": [
    "\n"
   ]
  },
  {
   "cell_type": "code",
   "execution_count": 3,
   "id": "417b9845",
   "metadata": {},
   "outputs": [
    {
     "data": {
      "text/plain": [
       "[2, 3, 4, 5, 6, 7]"
      ]
     },
     "execution_count": 3,
     "metadata": {},
     "output_type": "execute_result"
    }
   ],
   "source": [
    "solution([2,1,3,4,1])"
   ]
  }
 ],
 "metadata": {
  "kernelspec": {
   "display_name": "Python 3 (ipykernel)",
   "language": "python",
   "name": "python3"
  },
  "language_info": {
   "codemirror_mode": {
    "name": "ipython",
    "version": 3
   },
   "file_extension": ".py",
   "mimetype": "text/x-python",
   "name": "python",
   "nbconvert_exporter": "python",
   "pygments_lexer": "ipython3",
   "version": "3.9.7"
  }
 },
 "nbformat": 4,
 "nbformat_minor": 5
}
