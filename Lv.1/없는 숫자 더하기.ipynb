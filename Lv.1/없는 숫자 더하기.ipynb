{
 "cells": [
  {
   "cell_type": "markdown",
   "id": "31f8385b",
   "metadata": {},
   "source": [
    "# [월간 코드 챌린지 시즌3]\n",
    "\n",
    "# 없는 숫자 더하기\n"
   ]
  },
  {
   "cell_type": "markdown",
   "id": "479bc14d",
   "metadata": {},
   "source": [
    "\n"
   ]
  },
  {
   "cell_type": "markdown",
   "id": "5e93e646",
   "metadata": {},
   "source": [
    "\n"
   ]
  },
  {
   "cell_type": "markdown",
   "id": "af12866c",
   "metadata": {},
   "source": [
    "0부터 9까지의 숫자 중 일부가 들어있는 정수 배열 numbers가 매개변수로 주어집니다. numbers에서 찾을 수 없는 0부터 9까지의 숫자를 모두 찾아 더한 수를 return 하도록 solution 함수를 완성해주세요."
   ]
  },
  {
   "cell_type": "markdown",
   "id": "d28887a9",
   "metadata": {},
   "source": [
    "\n"
   ]
  },
  {
   "cell_type": "markdown",
   "id": "2e813110",
   "metadata": {},
   "source": [
    "<제한사항>\n",
    "- 1 ≤ numbers의 길이 ≤ 9\n",
    "- 0 ≤ numbers의 모든 원소 ≤ 9\n",
    "- numbers의 모든 원소는 서로 다릅니다."
   ]
  },
  {
   "cell_type": "markdown",
   "id": "3f817341",
   "metadata": {},
   "source": [
    "\n"
   ]
  },
  {
   "cell_type": "markdown",
   "id": "2d4d4cc4",
   "metadata": {},
   "source": [
    "\n"
   ]
  },
  {
   "cell_type": "markdown",
   "id": "720a334f",
   "metadata": {},
   "source": [
    "Solution 1"
   ]
  },
  {
   "cell_type": "code",
   "execution_count": 2,
   "id": "d7e98bb1",
   "metadata": {},
   "outputs": [],
   "source": [
    "def solution(numbers):\n",
    "    \n",
    "    setNumbers = set([1, 2, 3, 4, 5, 6, 7, 8, 9])\n",
    "    numbers = set(numbers)\n",
    "    \n",
    "    return sum(setNumbers - numbers)"
   ]
  },
  {
   "cell_type": "markdown",
   "id": "90b0dfc0",
   "metadata": {},
   "source": [
    "\n"
   ]
  },
  {
   "cell_type": "markdown",
   "id": "39767557",
   "metadata": {},
   "source": [
    "\n"
   ]
  },
  {
   "cell_type": "markdown",
   "id": "3c70a2e0",
   "metadata": {},
   "source": [
    "Solution 2"
   ]
  },
  {
   "cell_type": "code",
   "execution_count": 3,
   "id": "f4162a01",
   "metadata": {},
   "outputs": [],
   "source": [
    "def solution(numbers):\n",
    "    \n",
    "    return 45 - sum(numbers)"
   ]
  },
  {
   "cell_type": "markdown",
   "id": "41318612",
   "metadata": {},
   "source": [
    "\n"
   ]
  },
  {
   "cell_type": "code",
   "execution_count": 4,
   "id": "498fc944",
   "metadata": {},
   "outputs": [
    {
     "data": {
      "text/plain": [
       "14"
      ]
     },
     "execution_count": 4,
     "metadata": {},
     "output_type": "execute_result"
    }
   ],
   "source": [
    "solution([1,2,3,4,6,7,8,0])"
   ]
  }
 ],
 "metadata": {
  "kernelspec": {
   "display_name": "Python 3 (ipykernel)",
   "language": "python",
   "name": "python3"
  },
  "language_info": {
   "codemirror_mode": {
    "name": "ipython",
    "version": 3
   },
   "file_extension": ".py",
   "mimetype": "text/x-python",
   "name": "python",
   "nbconvert_exporter": "python",
   "pygments_lexer": "ipython3",
   "version": "3.9.7"
  }
 },
 "nbformat": 4,
 "nbformat_minor": 5
}
