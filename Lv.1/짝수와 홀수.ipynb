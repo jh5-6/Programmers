{
 "cells": [
  {
   "cell_type": "markdown",
   "id": "1c798dfd",
   "metadata": {},
   "source": [
    "# [연습문제]\n",
    "\n",
    "# 짝수와 홀수"
   ]
  },
  {
   "cell_type": "markdown",
   "id": "5d4486a4",
   "metadata": {},
   "source": [
    "\n"
   ]
  },
  {
   "cell_type": "markdown",
   "id": "ce593dd7",
   "metadata": {},
   "source": [
    "정수 num이 짝수일 경우 \"Even\"을 반환하고 홀수인 경우 \"Odd\"를 반환하는 함수, solution을 완성해주세요."
   ]
  },
  {
   "cell_type": "markdown",
   "id": "75b012af",
   "metadata": {},
   "source": [
    "\n"
   ]
  },
  {
   "cell_type": "markdown",
   "id": "2039cc7a",
   "metadata": {},
   "source": [
    "< 제한 조건 >\n",
    "- num은 int 범위의 정수입니다.\n",
    "- 0은 짝수입니다."
   ]
  },
  {
   "cell_type": "markdown",
   "id": "9492027c",
   "metadata": {},
   "source": [
    "\n"
   ]
  },
  {
   "cell_type": "markdown",
   "id": "5095dbc8",
   "metadata": {},
   "source": [
    "\n"
   ]
  },
  {
   "cell_type": "markdown",
   "id": "fd65641c",
   "metadata": {},
   "source": [
    "Solution 1"
   ]
  },
  {
   "cell_type": "code",
   "execution_count": 2,
   "id": "a572ae77",
   "metadata": {},
   "outputs": [],
   "source": [
    "def solution(num):\n",
    "    \n",
    "    return \"Even\" if num % 2 == 0 else \"Odd\""
   ]
  },
  {
   "cell_type": "markdown",
   "id": "e3f0e2fa",
   "metadata": {},
   "source": [
    "\n"
   ]
  },
  {
   "cell_type": "markdown",
   "id": "060b688d",
   "metadata": {},
   "source": [
    "Solution 2 - 비트 연산"
   ]
  },
  {
   "cell_type": "code",
   "execution_count": 3,
   "id": "6855e611",
   "metadata": {},
   "outputs": [],
   "source": [
    "def solution(num):\n",
    "    result = [\"Even\", \"Odd\"]\n",
    "    \n",
    "    return result[num & 1]"
   ]
  },
  {
   "cell_type": "markdown",
   "id": "68133c66",
   "metadata": {},
   "source": [
    "\n"
   ]
  },
  {
   "cell_type": "markdown",
   "id": "e9c0c447",
   "metadata": {},
   "source": [
    "Solution 3"
   ]
  },
  {
   "cell_type": "code",
   "execution_count": 5,
   "id": "d7772d48",
   "metadata": {},
   "outputs": [],
   "source": [
    "def solution(num):\n",
    "\n",
    "    return \"Odd\" if num % 2 else \"Even\""
   ]
  },
  {
   "cell_type": "markdown",
   "id": "94e5c8e6",
   "metadata": {},
   "source": [
    "\n"
   ]
  },
  {
   "cell_type": "markdown",
   "id": "2de03445",
   "metadata": {},
   "source": [
    "\n"
   ]
  },
  {
   "cell_type": "code",
   "execution_count": 6,
   "id": "ee758fa3",
   "metadata": {},
   "outputs": [
    {
     "data": {
      "text/plain": [
       "'Odd'"
      ]
     },
     "execution_count": 6,
     "metadata": {},
     "output_type": "execute_result"
    }
   ],
   "source": [
    "solution(3)"
   ]
  }
 ],
 "metadata": {
  "kernelspec": {
   "display_name": "Python 3 (ipykernel)",
   "language": "python",
   "name": "python3"
  },
  "language_info": {
   "codemirror_mode": {
    "name": "ipython",
    "version": 3
   },
   "file_extension": ".py",
   "mimetype": "text/x-python",
   "name": "python",
   "nbconvert_exporter": "python",
   "pygments_lexer": "ipython3",
   "version": "3.9.7"
  }
 },
 "nbformat": 4,
 "nbformat_minor": 5
}
