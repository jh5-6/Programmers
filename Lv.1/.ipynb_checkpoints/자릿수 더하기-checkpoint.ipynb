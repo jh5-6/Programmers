{
 "cells": [
  {
   "cell_type": "markdown",
   "id": "5a5a43c0",
   "metadata": {},
   "source": [
    "# [연습문제]\n",
    "\n",
    "# 자릿수 더하기"
   ]
  },
  {
   "cell_type": "markdown",
   "id": "4adf2624",
   "metadata": {},
   "source": [
    "\n"
   ]
  },
  {
   "cell_type": "markdown",
   "id": "929269f5",
   "metadata": {},
   "source": [
    "자연수 N이 주어지면, N의 각 자릿수의 합을 구해서 return 하는 solution 함수를 만들어 주세요.\n",
    "예를들어 N = 123이면 1 + 2 + 3 = 6을 return 하면 됩니다."
   ]
  },
  {
   "cell_type": "markdown",
   "id": "204fb3ce",
   "metadata": {},
   "source": [
    "\n"
   ]
  },
  {
   "cell_type": "markdown",
   "id": "325c92b3",
   "metadata": {},
   "source": [
    "< 제한사항 >\n",
    "- N의 범위 : 100,000,000 이하의 자연수"
   ]
  },
  {
   "cell_type": "markdown",
   "id": "242e461e",
   "metadata": {},
   "source": [
    "\n"
   ]
  },
  {
   "cell_type": "markdown",
   "id": "976ea67a",
   "metadata": {},
   "source": [
    "[TIP]\n",
    "재귀함수 (recursive call)\n",
    "\n",
    "- 종료 조건 : 종료 조건을 제대로 명시하지 않으면 함수가 무한히 호출될 수 있다\n"
   ]
  },
  {
   "cell_type": "markdown",
   "id": "394bfbdf",
   "metadata": {},
   "source": [
    "\n"
   ]
  },
  {
   "cell_type": "markdown",
   "id": "408026c9",
   "metadata": {},
   "source": [
    "\n"
   ]
  },
  {
   "cell_type": "markdown",
   "id": "7a1ecf75",
   "metadata": {},
   "source": [
    "Solution 1"
   ]
  },
  {
   "cell_type": "code",
   "execution_count": 1,
   "id": "bb6f9a1a",
   "metadata": {},
   "outputs": [],
   "source": [
    "def solution(n):\n",
    "\n",
    "    return sum(list(map(int, str(n))))"
   ]
  },
  {
   "cell_type": "markdown",
   "id": "6442e360",
   "metadata": {},
   "source": [
    "\n"
   ]
  },
  {
   "cell_type": "markdown",
   "id": "1e849ffb",
   "metadata": {},
   "source": [
    "Solution 2"
   ]
  },
  {
   "cell_type": "code",
   "execution_count": 2,
   "id": "cf06178c",
   "metadata": {},
   "outputs": [],
   "source": [
    "def sum_digit(num):\n",
    "    \n",
    "    # 재귀 함수의 종료 조건 \n",
    "    if num < 10 :\n",
    "        return num    \n",
    "    \n",
    "    return (num % 10) + sum_digit(num // 10)\n",
    "\n",
    "def solution(n):\n",
    "    \n",
    "    return sum_digit(n)"
   ]
  },
  {
   "cell_type": "markdown",
   "id": "1153c7c0",
   "metadata": {},
   "source": [
    "\n"
   ]
  },
  {
   "cell_type": "markdown",
   "id": "d71810d3",
   "metadata": {},
   "source": [
    "\n"
   ]
  },
  {
   "cell_type": "code",
   "execution_count": 3,
   "id": "b2c63b33",
   "metadata": {},
   "outputs": [
    {
     "data": {
      "text/plain": [
       "6"
      ]
     },
     "execution_count": 3,
     "metadata": {},
     "output_type": "execute_result"
    }
   ],
   "source": [
    "solution(123)"
   ]
  }
 ],
 "metadata": {
  "kernelspec": {
   "display_name": "Python 3 (ipykernel)",
   "language": "python",
   "name": "python3"
  },
  "language_info": {
   "codemirror_mode": {
    "name": "ipython",
    "version": 3
   },
   "file_extension": ".py",
   "mimetype": "text/x-python",
   "name": "python",
   "nbconvert_exporter": "python",
   "pygments_lexer": "ipython3",
   "version": "3.9.7"
  }
 },
 "nbformat": 4,
 "nbformat_minor": 5
}
