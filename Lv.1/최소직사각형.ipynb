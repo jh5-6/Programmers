{
 "cells": [
  {
   "cell_type": "markdown",
   "id": "98216228",
   "metadata": {},
   "source": [
    "# [위클리 챌린지]\n",
    "\n",
    "# 최소직사각형"
   ]
  },
  {
   "cell_type": "markdown",
   "id": "f6646791",
   "metadata": {},
   "source": [
    "\n"
   ]
  },
  {
   "cell_type": "markdown",
   "id": "ef0acd44",
   "metadata": {},
   "source": [
    "명함 지갑을 만드는 회사에서 지갑의 크기를 정하려고 합니다. 다양한 모양과 크기의 명함들을 모두 수납할 수 있으면서, 작아서 들고 다니기 편한 지갑을 만들어야 합니다. 이러한 요건을 만족하는 지갑을 만들기 위해 디자인팀은 모든 명함의 가로 길이와 세로 길이를 조사했습니다.\n",
    "\n",
    "아래 표는 4가지 명함의 가로 길이와 세로 길이를 나타냅니다.\n",
    "\n",
    "    명함 번호\t가로 길이\t세로 길이\n",
    "    1\t        60\t        50\n",
    "    2\t        30\t        70\n",
    "    3\t        60\t        30\n",
    "    4\t        80\t        40\n",
    "    \n",
    "가장 긴 가로 길이와 세로 길이가 각각 80, 70이기 때문에 80(가로) x 70(세로) 크기의 지갑을 만들면 모든 명함들을 수납할 수 있습니다. 하지만 2번 명함을 가로로 눕혀 수납한다면 80(가로) x 50(세로) 크기의 지갑으로 모든 명함들을 수납할 수 있습니다. 이때의 지갑 크기는 4000(=80 x 50)입니다.\n",
    "\n",
    "모든 명함의 가로 길이와 세로 길이를 나타내는 2차원 배열 sizes가 매개변수로 주어집니다. 모든 명함을 수납할 수 있는 가장 작은 지갑을 만들 때, 지갑의 크기를 return 하도록 solution 함수를 완성해주세요."
   ]
  },
  {
   "cell_type": "markdown",
   "id": "01d068fd",
   "metadata": {},
   "source": [
    "\n"
   ]
  },
  {
   "cell_type": "markdown",
   "id": "4cad3f21",
   "metadata": {},
   "source": [
    "< 제한사항 >\n",
    "- sizes의 길이는 1 이상 10,000 이하입니다.\n",
    "- sizes의 원소는 [w, h] 형식입니다.\n",
    "- w는 명함의 가로 길이를 나타냅니다.\n",
    "- h는 명함의 세로 길이를 나타냅니다.\n",
    "- w와 h는 1 이상 1,000 이하인 자연수입니다."
   ]
  },
  {
   "cell_type": "markdown",
   "id": "fe226aab",
   "metadata": {},
   "source": [
    "\n"
   ]
  },
  {
   "cell_type": "markdown",
   "id": "46dc365e",
   "metadata": {},
   "source": [
    "\n"
   ]
  },
  {
   "cell_type": "markdown",
   "id": "46d17bc7",
   "metadata": {},
   "source": [
    "Solution 1"
   ]
  },
  {
   "cell_type": "code",
   "execution_count": 1,
   "id": "01598e4c",
   "metadata": {},
   "outputs": [],
   "source": [
    "def solution(sizes):\n",
    "    \n",
    "    for idx, s in enumerate(sizes):\n",
    "        sizes[idx] = sorted(s)\n",
    "        \n",
    "    w = sorted(sizes, reverse = True)[0][0]\n",
    "    h = sorted(sizes, key = lambda x : -x[1])[0][1]\n",
    "  \n",
    "    return w * h"
   ]
  },
  {
   "cell_type": "markdown",
   "id": "2ddb1e72",
   "metadata": {},
   "source": [
    "\n"
   ]
  },
  {
   "cell_type": "markdown",
   "id": "d70a9549",
   "metadata": {},
   "source": [
    "Solution 2"
   ]
  },
  {
   "cell_type": "code",
   "execution_count": 2,
   "id": "ca341d5b",
   "metadata": {},
   "outputs": [],
   "source": [
    "def solution(sizes):\n",
    "    \n",
    "    return max([max(s) for s in sizes]) * max(min(s) for s in sizes)"
   ]
  },
  {
   "cell_type": "markdown",
   "id": "a459974d",
   "metadata": {},
   "source": [
    "\n"
   ]
  },
  {
   "cell_type": "markdown",
   "id": "8073d1c0",
   "metadata": {},
   "source": [
    "\n"
   ]
  },
  {
   "cell_type": "code",
   "execution_count": 3,
   "id": "69313ef9",
   "metadata": {},
   "outputs": [
    {
     "data": {
      "text/plain": [
       "4000"
      ]
     },
     "execution_count": 3,
     "metadata": {},
     "output_type": "execute_result"
    }
   ],
   "source": [
    "solution([[60, 50], [30, 70], [60, 30], [80, 40]])"
   ]
  }
 ],
 "metadata": {
  "kernelspec": {
   "display_name": "Python 3 (ipykernel)",
   "language": "python",
   "name": "python3"
  },
  "language_info": {
   "codemirror_mode": {
    "name": "ipython",
    "version": 3
   },
   "file_extension": ".py",
   "mimetype": "text/x-python",
   "name": "python",
   "nbconvert_exporter": "python",
   "pygments_lexer": "ipython3",
   "version": "3.9.7"
  }
 },
 "nbformat": 4,
 "nbformat_minor": 5
}
