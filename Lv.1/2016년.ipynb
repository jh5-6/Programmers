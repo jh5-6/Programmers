{
 "cells": [
  {
   "cell_type": "markdown",
   "id": "b2074920",
   "metadata": {},
   "source": [
    "# [연습문제]\n",
    "\n",
    "# 2016년"
   ]
  },
  {
   "cell_type": "markdown",
   "id": "26078096",
   "metadata": {},
   "source": [
    "\n"
   ]
  },
  {
   "cell_type": "markdown",
   "id": "19aa8203",
   "metadata": {},
   "source": [
    "2016년 1월 1일은 금요일입니다. 2016년 a월 b일은 무슨 요일일까요? 두 수 a ,b를 입력받아 2016년 a월 b일이 무슨 요일인지 리턴하는 함수, solution을 완성하세요. 요일의 이름은 일요일부터 토요일까지 각각 SUN,MON,TUE,WED,THU,FRI,SAT\n",
    "\n",
    "입니다. 예를 들어 a=5, b=24라면 5월 24일은 화요일이므로 문자열 \"TUE\"를 반환하세요."
   ]
  },
  {
   "cell_type": "markdown",
   "id": "912fa531",
   "metadata": {},
   "source": [
    "\n"
   ]
  },
  {
   "cell_type": "markdown",
   "id": "16a62677",
   "metadata": {},
   "source": [
    "<제한 조건>\n",
    "- 2016년은 윤년입니다.\n",
    "- 2016년 a월 b일은 실제로 있는 날입니다. (13월 26일이나 2월 45일같은 날짜는 주어지지 않습니다)\n"
   ]
  },
  {
   "cell_type": "markdown",
   "id": "0f2e4e68",
   "metadata": {},
   "source": [
    "\n"
   ]
  },
  {
   "cell_type": "markdown",
   "id": "500ca3f7",
   "metadata": {},
   "source": [
    "[TIP]\n",
    "\n",
    "- datetiem 모듈"
   ]
  },
  {
   "cell_type": "markdown",
   "id": "c675cc05",
   "metadata": {},
   "source": [
    "\n"
   ]
  },
  {
   "cell_type": "markdown",
   "id": "c30dc34d",
   "metadata": {},
   "source": [
    "Solution 1"
   ]
  },
  {
   "cell_type": "code",
   "execution_count": 41,
   "id": "ea3d7bc7",
   "metadata": {},
   "outputs": [],
   "source": [
    "from datetime import datetime \n",
    "\n",
    "def solution(a, b):\n",
    "    \n",
    "    days = [\"MON\",\"TUE\",\"WED\",\"THU\",\"FRI\",\"SAT\", \"SUN\"]\n",
    "    date = \"2016-\" + str(a) + \"-\" + str(b)\n",
    "    dateTime = datetime.strptime(date, \"%Y-%m-%d\")\n",
    "\n",
    "    return days[dateTime.weekday()]"
   ]
  },
  {
   "cell_type": "markdown",
   "id": "7c4cb675",
   "metadata": {},
   "source": [
    "\n"
   ]
  },
  {
   "cell_type": "markdown",
   "id": "58546ec3",
   "metadata": {},
   "source": [
    "Solution 2"
   ]
  },
  {
   "cell_type": "code",
   "execution_count": 40,
   "id": "00ea5357",
   "metadata": {},
   "outputs": [],
   "source": [
    "from datetime import datetime \n",
    "\n",
    "def solution(a, b):\n",
    "    \n",
    "    days = [\"MON\",\"TUE\",\"WED\",\"THU\",\"FRI\",\"SAT\", \"SUN\"]\n",
    "    \n",
    "    return days[datetime(2016, a, b).weekday()]\n"
   ]
  },
  {
   "cell_type": "markdown",
   "id": "bb645c5d",
   "metadata": {},
   "source": [
    "\n"
   ]
  },
  {
   "cell_type": "markdown",
   "id": "d8064747",
   "metadata": {},
   "source": [
    "\n"
   ]
  },
  {
   "cell_type": "code",
   "execution_count": 37,
   "id": "97ee95a8",
   "metadata": {},
   "outputs": [
    {
     "data": {
      "text/plain": [
       "'TUE'"
      ]
     },
     "execution_count": 37,
     "metadata": {},
     "output_type": "execute_result"
    }
   ],
   "source": [
    "solution(5, 24)"
   ]
  }
 ],
 "metadata": {
  "kernelspec": {
   "display_name": "Python 3 (ipykernel)",
   "language": "python",
   "name": "python3"
  },
  "language_info": {
   "codemirror_mode": {
    "name": "ipython",
    "version": 3
   },
   "file_extension": ".py",
   "mimetype": "text/x-python",
   "name": "python",
   "nbconvert_exporter": "python",
   "pygments_lexer": "ipython3",
   "version": "3.9.7"
  }
 },
 "nbformat": 4,
 "nbformat_minor": 5
}
